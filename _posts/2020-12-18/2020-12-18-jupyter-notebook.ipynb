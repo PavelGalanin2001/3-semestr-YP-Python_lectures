{
 "cells": [
  {
   "cell_type": "markdown",
   "metadata": {},
   "source": [
    "## Лекция\n",
    "\n",
    "# Python GUI (Tkinter)\n",
    "\n",
    "Библиотека Tkinter установлена в Python в качестве стандартного модуля, поэтому нам не\n",
    "нужно устанавливать что-либо для его использования. Tkinter — очень мощная\n",
    "библиотека. Если вы уже установили Python, можете использовать IDLE, который\n",
    "является интегрированной IDE, поставляемой в Python, эта IDE написана с\n",
    "использованием Tkinter.\n",
    "\n",
    "Мы будем использовать Python 3.7 поэтому, если вы все еще используете Python 2.x,\n",
    "настоятельно рекомендуем перейти на Python 3.x\n",
    "\n",
    "Давайте предположим, что у вас уже есть базовые знания по Python, которые помогут\n",
    "понять что мы будем делать. Мы начнем с создания окна, в котором мы узнаем, как\n",
    "добавлять виджеты, такие, как кнопки, комбинированные поля и т. д. После этого\n",
    "поэкспериментируем со своими свойствами, поэтому предлагаю начать."
   ]
  },
  {
   "cell_type": "markdown",
   "metadata": {},
   "source": [
    "## Создание своего первого графического интерфейса\n",
    "\n",
    "Для начала, следует импортировать Tkinter и создать окно, в котором мы зададим его название:"
   ]
  },
  {
   "cell_type": "code",
   "execution_count": 1,
   "metadata": {},
   "outputs": [],
   "source": [
    "from tkinter import *\n",
    "window = Tk()\n",
    "window.title(\"Добро пожаловать в приложение PythonRu\")\n",
    "window.mainloop()"
   ]
  },
  {
   "cell_type": "markdown",
   "metadata": {},
   "source": [
    "Результат будет выглядеть следующим образом:\n",
    "![](../../pics/2020-12-18/tk.png)"
   ]
  },
  {
   "cell_type": "markdown",
   "metadata": {},
   "source": [
    "Прекрасно! Наше приложение работает.\n",
    "\n",
    "Последняя строка вызывает функцию mainloop. Эта функция вызывает бесконечный цикл\n",
    "окна, поэтому окно будет ждать любого взаимодействия с пользователем, пока не будет\n",
    "закрыто.\n",
    "\n",
    "В случае, если вы забудете вызвать функцию mainloop , для пользователя ничего не\n",
    "отобразится."
   ]
  },
  {
   "cell_type": "markdown",
   "metadata": {},
   "source": [
    "## Создание виджета Label\n",
    "\n",
    "Чтобы добавить текст в наш предыдущий пример, мы создадим lbl, с помощью класса Label, например:\n",
    "\n",
    "```python\n",
    "lbl = Label(window, text=\"Привет\")\n",
    "```\n",
    "\n",
    "Затем мы установим позицию в окне с помощью функции grid и укажем ее следующим образом:\n",
    "\n",
    "```python\n",
    "lbl.grid(column=0, row=0)\n",
    "```\n",
    "\n",
    "Полный код, будет выглядеть следующим образом:"
   ]
  },
  {
   "cell_type": "code",
   "execution_count": 2,
   "metadata": {},
   "outputs": [],
   "source": [
    "from tkinter import *\n",
    "window = Tk()\n",
    "window.title(\"Добро пожаловать в приложение PythonRu\")\n",
    "lbl = Label(window, text=\"Привет\")\n",
    "lbl.grid(column=0, row=0)\n",
    "window.mainloop()"
   ]
  },
  {
   "cell_type": "markdown",
   "metadata": {},
   "source": [
    "И вот как будет выглядеть результат:\n",
    "\n",
    "![](../../pics/2020-12-18/label.png)"
   ]
  },
  {
   "cell_type": "markdown",
   "metadata": {},
   "source": [
    "Если функция grid не будет вызвана, текст не будет отображаться."
   ]
  },
  {
   "cell_type": "markdown",
   "metadata": {},
   "source": [
    "## Настройка размера и шрифта текста\n",
    "\n",
    "Вы можете задать шрифт текста и размер. Также можно изменить стиль шрифта. Для\n",
    "этого передайте параметр font таким образом:\n",
    "\n",
    "```python\n",
    "lbl = Label(window, text=\"Привет\", font=(\"Arial Bold\", 50))\n",
    "```"
   ]
  },
  {
   "cell_type": "code",
   "execution_count": 3,
   "metadata": {},
   "outputs": [],
   "source": [
    "from tkinter import *\n",
    "window = Tk()\n",
    "window.title(\"Добро пожаловать в приложение PythonRu\")\n",
    "lbl = Label(window, text=\"Привет\", font=(\"Arial Bold\", 50))\n",
    "lbl.grid(column=0, row=0)\n",
    "window.mainloop()"
   ]
  },
  {
   "cell_type": "markdown",
   "metadata": {},
   "source": [
    "![](../../pics/2020-12-18/label-font.png)"
   ]
  },
  {
   "cell_type": "markdown",
   "metadata": {},
   "source": [
    "Обратите внимание, что параметр font может быть передан любому виджету, для того, чтобы поменять его шрифт, он применяется не только к Label.\n",
    "\n",
    "Отлично, но стандартное окно слишком мало. Как насчет настройки размера окна?"
   ]
  },
  {
   "cell_type": "markdown",
   "metadata": {},
   "source": [
    "## Настройка размеров окна приложения\n",
    "\n",
    "Мы можем установить размер окна по умолчанию, используя функцию geometry следующим образом:\n",
    "\n",
    "```python\n",
    "window.geometry('400x250')\n",
    "```\n",
    "                \n",
    "В приведенной выше строке устанавливается окно шириной до 400 пикселей и высотой до 250 пикселей.\n",
    "\n",
    "Попробуем добавить больше виджетов GUI, например, кнопки и посмотреть, как обрабатывается нажатие кнопок."
   ]
  },
  {
   "cell_type": "code",
   "execution_count": 4,
   "metadata": {},
   "outputs": [],
   "source": [
    "from tkinter import *\n",
    "window = Tk()\n",
    "window.geometry('400x250')\n",
    "window.title(\"Добро пожаловать в приложение PythonRu\")\n",
    "lbl = Label(window, text=\"Привет\", font=(\"Arial Bold\", 50))\n",
    "lbl.grid(column=0, row=0)\n",
    "window.mainloop()"
   ]
  },
  {
   "cell_type": "markdown",
   "metadata": {},
   "source": [
    "![](../../pics/2020-12-18/window-geometry.png)"
   ]
  },
  {
   "cell_type": "markdown",
   "metadata": {},
   "source": [
    "## Добавление виджета Button\n",
    "\n",
    "Начнем с добавления кнопки в окно. Кнопка создается и добавляется в окно так же, как и метка:\n",
    "\n",
    "```python\n",
    "btn = Button(window, text=\"Не нажимать!\")\n",
    "btn.grid(column=1, row=0)\n",
    "```\n",
    "\n",
    "Наш код будет выглядеть вот так:"
   ]
  },
  {
   "cell_type": "code",
   "execution_count": 5,
   "metadata": {},
   "outputs": [],
   "source": [
    "from tkinter import *\n",
    "window = Tk()\n",
    "window.title(\"Добро пожаловать в приложение PythonRu\")\n",
    "window.geometry('400x250')\n",
    "lbl = Label(window, text=\"Привет\", font=(\"Arial Bold\", 50))\n",
    "lbl.grid(column=0, row=0)\n",
    "btn = Button(window, text=\"Не нажимать!\")\n",
    "btn.grid(column=1, row=0)\n",
    "window.mainloop()"
   ]
  },
  {
   "cell_type": "markdown",
   "metadata": {},
   "source": [
    "Результат будет следующим:\n",
    "\n",
    "![](../../pics/2020-12-18/Button.png)\n",
    "\n",
    "Обратите внимание, что мы помещаем кнопку во второй столбец окна, что равно 1. Если вы забудете и поместите кнопку в том же столбце, который равен 0, он покажет только кнопку."
   ]
  },
  {
   "cell_type": "markdown",
   "metadata": {},
   "source": [
    "## Изменение цвета текста и фона у Button\n",
    "\n",
    "Вы можете поменять цвет текста кнопки или любого другого виджета, используя свойство fg.\n",
    "\n",
    "Кроме того, вы можете поменять цвет фона любого виджета, используя свойство bg.\n",
    "\n",
    "```python\n",
    "btn = Button(window, text=\"Не нажимать!\", bg=\"black\", fg=\"red\")\n",
    "```\n",
    "\n",
    "Теперь, если вы попытаетесь щелкнуть по кнопке, ничего не произойдет, потому что событие нажатия кнопки еще не написано."
   ]
  },
  {
   "cell_type": "code",
   "execution_count": 6,
   "metadata": {},
   "outputs": [],
   "source": [
    "from tkinter import *\n",
    "window = Tk()\n",
    "window.title(\"Добро пожаловать в приложение PythonRu\")\n",
    "window.geometry('400x250')\n",
    "lbl = Label(window, text=\"Привет\", font=(\"Arial Bold\", 50))\n",
    "lbl.grid(column=0, row=0)\n",
    "btn = Button(window, text=\"Не нажимать!\", bg=\"black\", fg=\"red\")\n",
    "btn.grid(column=1, row=0)\n",
    "window.mainloop()"
   ]
  },
  {
   "cell_type": "markdown",
   "metadata": {},
   "source": [
    "![](../../pics/2020-12-18/button-bg-fg.png)"
   ]
  },
  {
   "cell_type": "markdown",
   "metadata": {},
   "source": [
    "## Кнопка Click\n",
    "\n",
    "Для начала, мы запишем функцию, которую нужно выполнить при нажатии кнопки:\n",
    "\n",
    "```python\n",
    "def clicked():\n",
    "    lbl.configure(text=\"Я же просил...\")\n",
    "```\n",
    "\n",
    "Затем мы подключим ее с помощью кнопки, указав следующую функцию:\n",
    "\n",
    "```python\n",
    "btn = Button(window, text=\"Не нажимать!\", command=clicked)\n",
    "```\n",
    "\n",
    "**Обратите внимание**: мы пишем clicked, а не clicked() с круглыми скобками. Теперь полный код будет выглядеть так:"
   ]
  },
  {
   "cell_type": "code",
   "execution_count": 7,
   "metadata": {},
   "outputs": [],
   "source": [
    "from tkinter import *\n",
    "\n",
    "def clicked():\n",
    "    lbl.configure(text=\"Я же просил...\")\n",
    "\n",
    "window = Tk()\n",
    "window.title(\"Добро пожаловать в приложение PythonRu\")\n",
    "window.geometry('400x250')\n",
    "lbl = Label(window, text=\"Привет\", font=(\"Arial Bold\", 50))\n",
    "lbl.grid(column=0, row=0)\n",
    "btn = Button(window, text=\"Не нажимать!\", command=clicked)\n",
    "btn.grid(column=1, row=0)\n",
    "window.mainloop()"
   ]
  },
  {
   "cell_type": "markdown",
   "metadata": {},
   "source": [
    "При нажатии на кнопку, результат, как и ожидалось, будет выглядеть следующим\n",
    "образом:\n",
    "\n",
    "![](../../pics/2020-12-18/cliced-1.png)\n",
    "\n",
    "![](../../pics/2020-12-18/cliced-2.png)"
   ]
  },
  {
   "cell_type": "markdown",
   "metadata": {},
   "source": [
    "## Получение ввода с использованием класса Entry (текстовое поле Tkinter)\n",
    "\n",
    "В предыдущих примерах GUI Python мы ознакомились со способами добавления простых виджетов, а теперь попробуем получить пользовательский ввод, используя класс Tkinter Entry (текстовое поле Tkinter).\n",
    "\n",
    "Вы можете создать текстовое поле с помощью класса Tkinter Entry следующим образом:\n",
    "\n",
    "```python\n",
    "txt = Entry(window, width=10)\n",
    "```\n",
    "\n",
    "Затем вы можете добавить его в окно, используя функцию grid.\n",
    "\n",
    "Наше окно будет выглядеть так:"
   ]
  },
  {
   "cell_type": "code",
   "execution_count": 8,
   "metadata": {},
   "outputs": [],
   "source": [
    "from tkinter import *  \n",
    "\n",
    "def clicked():  \n",
    "    lbl.configure(text=\"Я же просил...\")  \n",
    "\n",
    "window = Tk()  \n",
    "window.title(\"Добро пожаловать в приложение PythonRu\")  \n",
    "window.geometry('400x250')  \n",
    "lbl = Label(window, text=\"Привет\")  \n",
    "lbl.grid(column=0, row=0)  \n",
    "txt = Entry(window,width=10)  \n",
    "txt.grid(column=1, row=0)  \n",
    "btn = Button(window, text=\"Не нажимать!\", command=clicked)  \n",
    "btn.grid(column=2, row=0)  \n",
    "window.mainloop()"
   ]
  },
  {
   "cell_type": "markdown",
   "metadata": {},
   "source": [
    "Полученный результат будет выглядеть так:\n",
    "\n",
    "![](../../pics/2020-12-18/txt-entry.png)"
   ]
  },
  {
   "cell_type": "markdown",
   "metadata": {},
   "source": [
    "Теперь, если вы нажмете кнопку, она покажет то же самое старое сообщение, но что же будет с отображением введенного текста в виджет Entry?\n",
    "\n",
    "Во-первых, вы можете получить текст ввода, используя функцию get. Мы можем записать код для выбранной функции таким образом:\n",
    "\n",
    "```python\n",
    "def clicked():\n",
    "    res = \"Привет {}\".format(txt.get())\n",
    "    lbl.configure(text=res)\n",
    "```\n",
    "\n",
    "Если вы нажмете на кнопку — появится текст «Привет » вместе с введенным текстом в виджете записи. Вот полный код:"
   ]
  },
  {
   "cell_type": "code",
   "execution_count": 9,
   "metadata": {},
   "outputs": [],
   "source": [
    "from tkinter import *  \n",
    "  \n",
    "def clicked():  \n",
    "    res = \"Привет {}\".format(txt.get())  \n",
    "    lbl.configure(text=res)  \n",
    "\n",
    "window = Tk()  \n",
    "window.title(\"Добро пожаловать в приложение PythonRu\")  \n",
    "window.geometry('400x250')  \n",
    "lbl = Label(window, text=\"Привет\")  \n",
    "lbl.grid(column=0, row=0)  \n",
    "txt = Entry(window,width=10)  \n",
    "txt.grid(column=1, row=0)  \n",
    "btn = Button(window, text=\"Клик!\", command=clicked)  \n",
    "btn.grid(column=2, row=0)  \n",
    "window.mainloop()"
   ]
  },
  {
   "cell_type": "markdown",
   "metadata": {},
   "source": [
    "Запустите вышеуказанный код и проверьте результат:\n",
    "\n",
    "![](../../pics/2020-12-18/lbl-configure.png)"
   ]
  },
  {
   "cell_type": "markdown",
   "metadata": {},
   "source": [
    "Прекрасно!\n",
    "\n",
    "Каждый раз, когда мы запускаем код, нам нужно нажать на виджет ввода, чтобы настроить фокус на ввод текста, но как насчет автоматической настройки фокуса?"
   ]
  },
  {
   "cell_type": "markdown",
   "metadata": {},
   "source": [
    "## Установка фокуса виджета ввода\n",
    "\n",
    "Здесь все очень просто, ведь все, что нам нужно сделать, — это вызвать функцию focus:\n",
    "\n",
    "```python\n",
    "txt.focus()\n",
    "```\n",
    "\n",
    "Когда вы запустите свой код, вы заметите, что виджет ввода в фокусе, который дает возможность сразу написать текст."
   ]
  },
  {
   "cell_type": "code",
   "execution_count": 10,
   "metadata": {},
   "outputs": [],
   "source": [
    "from tkinter import *  \n",
    "  \n",
    "def clicked():  \n",
    "    res = \"Привет {}\".format(txt.get())  \n",
    "    lbl.configure(text=res)  \n",
    "\n",
    "window = Tk()  \n",
    "window.title(\"Добро пожаловать в приложение PythonRu\")  \n",
    "window.geometry('400x250')  \n",
    "lbl = Label(window, text=\"Привет\")  \n",
    "lbl.grid(column=0, row=0)  \n",
    "txt = Entry(window, width=10)\n",
    "txt.focus()\n",
    "txt.grid(column=1, row=0)  \n",
    "btn = Button(window, text=\"Клик!\", command=clicked)  \n",
    "btn.grid(column=2, row=0)  \n",
    "window.mainloop()"
   ]
  },
  {
   "cell_type": "markdown",
   "metadata": {},
   "source": [
    "![](../../pics/2020-12-18/txt-focus.png)"
   ]
  },
  {
   "cell_type": "markdown",
   "metadata": {},
   "source": [
    "## Отключить виджет ввода\n",
    "\n",
    "Чтобы отключить виджет ввода, отключите свойство состояния:\n",
    "\n",
    "```python\n",
    "txt = Entry(window, width=10, state='disabled')\n",
    "```"
   ]
  },
  {
   "cell_type": "code",
   "execution_count": 11,
   "metadata": {},
   "outputs": [],
   "source": [
    "from tkinter import *  \n",
    "  \n",
    "def clicked():  \n",
    "    res = \"Привет {}\".format(txt.get())  \n",
    "    lbl.configure(text=res)  \n",
    "\n",
    "window = Tk()  \n",
    "window.title(\"Добро пожаловать в приложение PythonRu\")  \n",
    "window.geometry('400x250')  \n",
    "lbl = Label(window, text=\"Привет\")  \n",
    "lbl.grid(column=0, row=0)  \n",
    "txt = Entry(window, width=10, state='disabled')\n",
    "txt.grid(column=1, row=0)  \n",
    "btn = Button(window, text=\"Клик!\", command=clicked)  \n",
    "btn.grid(column=2, row=0)  \n",
    "window.mainloop()"
   ]
  },
  {
   "cell_type": "markdown",
   "metadata": {},
   "source": [
    "![](../../pics/2020-12-18/Entry-disable.png)\n",
    "\n",
    "Теперь вы не сможете ввести какой-либо текст."
   ]
  },
  {
   "cell_type": "markdown",
   "metadata": {},
   "source": [
    "## Добавление виджета Combobox\n",
    "\n",
    "Чтобы добавить виджет поля с выпадающем списком, используйте класс Combobox из ttk следующим образом:\n",
    "\n",
    "```python\n",
    "from tkinter.ttk import Combobox\n",
    "\n",
    "combo = Combobox(window)\n",
    "```\n",
    "\n",
    "Затем добавьте свои значения в поле со списком."
   ]
  },
  {
   "cell_type": "code",
   "execution_count": 12,
   "metadata": {},
   "outputs": [],
   "source": [
    "from tkinter import *  \n",
    "from tkinter.ttk import Combobox  \n",
    "\n",
    "window = Tk()  \n",
    "window.title(\"Добро пожаловать в приложение PythonRu\")  \n",
    "window.geometry('400x250')  \n",
    "combo = Combobox(window)  \n",
    "combo['values'] = (1, 2, 3, 4, 5, \"Текст\")  \n",
    "combo.current(1)  # установите вариант по умолчанию  \n",
    "combo.grid(column=0, row=0)  \n",
    "window.mainloop()"
   ]
  },
  {
   "cell_type": "markdown",
   "metadata": {},
   "source": [
    "![](../../pics/2020-12-18/Combobox.png)\n",
    "\n",
    "Как видите с примера, мы добавляем элементы combobox, используя значения tuple.\n",
    "\n",
    "Чтобы установить выбранный элемент, вы можете передать индекс нужного элемента текущей функции.\n",
    "\n",
    "Чтобы получить элемент select, вы можете использовать функцию get вот таким образом:\n",
    "\n",
    "```python\n",
    "combo.get()\n",
    "```"
   ]
  },
  {
   "cell_type": "markdown",
   "metadata": {},
   "source": [
    "## Добавление виджета Checkbutton (чекбокса)\n",
    "\n",
    "С целью создания виджета checkbutton, используйте класс Checkbutton:\n",
    "\n",
    "```python\n",
    "from tkinter.ttk import Checkbutton\n",
    "\n",
    "chk = Checkbutton(window, text='Выбрать')\n",
    "```\n",
    "\n",
    "Кроме того, вы можете задать значение по умолчанию, передав его в параметр var в Checkbutton:"
   ]
  },
  {
   "cell_type": "code",
   "execution_count": 13,
   "metadata": {},
   "outputs": [],
   "source": [
    "from tkinter import *  \n",
    "from tkinter.ttk import Checkbutton  \n",
    "\n",
    "window = Tk()  \n",
    "window.title(\"Добро пожаловать в приложение PythonRu\")  \n",
    "window.geometry('400x250')  \n",
    "chk_state = BooleanVar()  \n",
    "chk_state.set(True)  # задайте проверку состояния чекбокса  \n",
    "chk = Checkbutton(window, text='Выбрать', var=chk_state)  \n",
    "chk.grid(column=0, row=0)  \n",
    "window.mainloop()"
   ]
  },
  {
   "cell_type": "markdown",
   "metadata": {},
   "source": [
    "Посмотрите на результат:\n",
    "\n",
    "![](../../pics/2020-12-18/Checkbutton-1.png)\n",
    "\n",
    "![](../../pics/2020-12-18/Checkbutton-2.png)"
   ]
  },
  {
   "cell_type": "markdown",
   "metadata": {},
   "source": [
    "## Установка состояния Checkbutton\n",
    "\n",
    "Здесь мы создаем переменную типа BooleanVar, которая не является стандартной переменной Python, это переменная Tkinter, затем передаем ее классу Checkbutton, чтобы установить состояние чекбокса как True в приведенном выше примере.\n",
    "\n",
    "Вы можете установить для BooleanVar значение false, что бы чекбокс не был отмечен.\n",
    "\n",
    "Так же, используйте IntVar вместо BooleanVar и установите значения 0 и 1.\n",
    "\n",
    "```python\n",
    "chk_state = IntVar()\n",
    "chk_state.set(0) # False\n",
    "chk_state.set(1) # True\n",
    "```\n",
    "\n",
    "Эти примеры дают тот же результат, что и BooleanVar."
   ]
  },
  {
   "cell_type": "markdown",
   "metadata": {},
   "source": [
    "## Добавление виджетов Radio Button\n",
    "\n",
    "Чтобы добавить radio кнопки, используйте класс RadioButton:\n",
    "\n",
    "```python\n",
    "rad1 = Radiobutton(window,text='Первый', value=1)\n",
    "```\n",
    "\n",
    "Обратите внимание, что вы должны установить value для каждой radio кнопки с уникальным значением, иначе они не будут работать."
   ]
  },
  {
   "cell_type": "code",
   "execution_count": 14,
   "metadata": {},
   "outputs": [],
   "source": [
    "from tkinter import *  \n",
    "from tkinter.ttk import Radiobutton  \n",
    "\n",
    "window = Tk()  \n",
    "window.title(\"Добро пожаловать в приложение PythonRu\")  \n",
    "window.geometry('400x250')  \n",
    "rad1 = Radiobutton(window, text='Первый', value=1)  \n",
    "rad2 = Radiobutton(window, text='Второй', value=2)  \n",
    "rad3 = Radiobutton(window, text='Третий', value=3)  \n",
    "rad1.grid(column=0, row=0)  \n",
    "rad2.grid(column=1, row=0)  \n",
    "rad3.grid(column=2, row=0)  \n",
    "window.mainloop()"
   ]
  },
  {
   "cell_type": "markdown",
   "metadata": {},
   "source": [
    "Результатом вышеприведенного кода будет следующий:\n",
    "\n",
    "![](../../pics/2020-12-18/Radiobutton-1.png)\n",
    "\n",
    "![](../../pics/2020-12-18/Radiobutton-2.png)\n",
    "\n",
    "Кроме того, вы можете задать command любой из этих кнопок для определенной функции. Если пользователь нажимает на такую кнопку, она запустит код функции.\n",
    "\n",
    "Вот пример:\n",
    "\n",
    "```python\n",
    "rad1 = Radiobutton(window,text='Первая', value=1, command=clicked)\n",
    "\n",
    "def clicked():\n",
    "    # Делайте, что нужно\n",
    "```\n",
    "\n",
    "Достаточно легко!"
   ]
  },
  {
   "cell_type": "markdown",
   "metadata": {},
   "source": [
    "## Получение значения Radio Button (Избранная Radio Button)\n",
    "\n",
    "Чтобы получить текущую выбранную radio кнопку или ее значение, вы можете передать параметр переменной и получить его значение."
   ]
  },
  {
   "cell_type": "code",
   "execution_count": 15,
   "metadata": {},
   "outputs": [],
   "source": [
    "from tkinter import *  \n",
    "from tkinter.ttk import Radiobutton  \n",
    "\n",
    "def clicked():  \n",
    "    lbl.configure(text=selected.get())  \n",
    "\n",
    "window = Tk()  \n",
    "window.title(\"Добро пожаловать в приложение PythonRu\")  \n",
    "window.geometry('400x250')  \n",
    "selected = IntVar()  \n",
    "rad1 = Radiobutton(window,text='Первый', value=1, variable=selected)  \n",
    "rad2 = Radiobutton(window,text='Второй', value=2, variable=selected)  \n",
    "rad3 = Radiobutton(window,text='Третий', value=3, variable=selected)  \n",
    "btn = Button(window, text=\"Клик\", command=clicked)  \n",
    "lbl = Label(window)  \n",
    "rad1.grid(column=0, row=0)  \n",
    "rad2.grid(column=1, row=0)  \n",
    "rad3.grid(column=2, row=0)  \n",
    "btn.grid(column=3, row=0)  \n",
    "lbl.grid(column=0, row=1)  \n",
    "window.mainloop()"
   ]
  },
  {
   "cell_type": "markdown",
   "metadata": {},
   "source": [
    "![](../../pics/2020-12-18/RadioButton-selected-get.png)\n",
    "\n",
    "![](../../pics/2020-12-18/RadioButton-selected-get-0.png)\n",
    "\n",
    "![](../../pics/2020-12-18/RadioButton-selected-get-1.png)\n",
    "\n",
    "![](../../pics/2020-12-18/RadioButton-selected-get-2.png)\n",
    "\n",
    "![](../../pics/2020-12-18/RadioButton-selected-get-3.png)\n",
    "\n",
    "Каждый раз, когда вы выбираете radio button, значение переменной будет изменено на значение кнопки."
   ]
  },
  {
   "cell_type": "markdown",
   "metadata": {},
   "source": [
    "## Добавление виджета ScrolledText (текстовая область Tkinter)\n",
    "\n",
    "Чтобы добавить виджет ScrolledText, используйте класс ScrolledText:\n",
    "\n",
    "```python\n",
    "from tkinter import scrolledtext\n",
    "\n",
    "txt = scrolledtext.ScrolledText(window,width=40,height=10)\n",
    "```\n",
    "\n",
    "Здесь нужно указать ширину и высоту ScrolledText, иначе он заполнит все окно."
   ]
  },
  {
   "cell_type": "code",
   "execution_count": 16,
   "metadata": {},
   "outputs": [],
   "source": [
    "from tkinter import *  \n",
    "from tkinter import scrolledtext  \n",
    "\n",
    "window = Tk()  \n",
    "window.title(\"Добро пожаловать в приложение PythonRu\")  \n",
    "window.geometry('400x250')  \n",
    "txt = scrolledtext.ScrolledText(window, width=40, height=10)  \n",
    "txt.grid(column=0, row=0)  \n",
    "window.mainloop()"
   ]
  },
  {
   "cell_type": "markdown",
   "metadata": {},
   "source": [
    "Результат:\n",
    "\n",
    "![](../../pics/2020-12-18/ScrolledText.png)"
   ]
  },
  {
   "cell_type": "markdown",
   "metadata": {},
   "source": [
    "## Настройка содержимого Scrolledtext\n",
    "\n",
    "Используйте метод insert, чтобы настроить содержимое Scrolledtext:\n",
    "\n",
    "```python\n",
    "txt.insert(INSERT, 'Текстовое поле')\n",
    "```"
   ]
  },
  {
   "cell_type": "code",
   "execution_count": 17,
   "metadata": {},
   "outputs": [],
   "source": [
    "from tkinter import *  \n",
    "from tkinter import scrolledtext  \n",
    "\n",
    "window = Tk()  \n",
    "window.title(\"Добро пожаловать в приложение PythonRu\")  \n",
    "window.geometry('400x250')  \n",
    "txt = scrolledtext.ScrolledText(window, width=40, height=10)  \n",
    "txt.insert(INSERT, 'Текстовое поле')\n",
    "txt.grid(column=0, row=0)  \n",
    "window.mainloop()"
   ]
  },
  {
   "cell_type": "markdown",
   "metadata": {},
   "source": [
    "![](../../pics/2020-12-18/ScrolledText-insert.png)"
   ]
  },
  {
   "cell_type": "markdown",
   "metadata": {},
   "source": [
    "## Удаление/Очистка содержимого Scrolledtext\n",
    "\n",
    "Чтобы очистить содержимое данного виджета, используйте метод delete:\n",
    "\n",
    "```python\n",
    "txt.delete(1.0, END)  # мы передали координаты очистки\n",
    "```\n",
    "\n",
    "Отлично!"
   ]
  },
  {
   "cell_type": "markdown",
   "metadata": {},
   "source": [
    "## Создание всплывающего окна с сообщением\n",
    "\n",
    "Чтобы показать всплывающее окно с помощью Tkinter, используйте messagebox следующим образом:\n",
    "\n",
    "```python\n",
    "from tkinter import messagebox\n",
    "\n",
    "messagebox.showinfo('Заголовок', 'Текст')\n",
    "```\n",
    "\n",
    "Довольно легко! Давайте покажем окно сообщений при нажатии на кнопку пользователем."
   ]
  },
  {
   "cell_type": "code",
   "execution_count": 18,
   "metadata": {},
   "outputs": [],
   "source": [
    "from tkinter import *  \n",
    "from tkinter import messagebox  \n",
    "\n",
    "def clicked():  \n",
    "    messagebox.showinfo('Заголовок', 'Текст')  \n",
    "\n",
    "window = Tk()  \n",
    "window.title(\"Добро пожаловать в приложение PythonRu\")  \n",
    "window.geometry('400x250')  \n",
    "btn = Button(window, text='Клик', command=clicked)  \n",
    "btn.grid(column=0, row=0)  \n",
    "window.mainloop()"
   ]
  },
  {
   "cell_type": "markdown",
   "metadata": {},
   "source": [
    "![](../../pics/2020-12-18/messagebox.png)\n",
    "\n",
    "Когда вы нажмете на кнопку, появится информационное окно."
   ]
  },
  {
   "cell_type": "markdown",
   "metadata": {},
   "source": [
    "## Показ сообщений о предупреждениях и ошибках\n",
    "\n",
    "Вы можете показать предупреждающее сообщение или сообщение об ошибке таким же образом. Единственное, что нужно изменить—это функция сообщения.\n",
    "\n",
    "```python\n",
    "messagebox.showwarning('Заголовок', 'Текст')  # показывает предупреждающее сообщение\n",
    "messagebox.showerror('Заголовок', 'Текст')  # показывает сообщение об ошибке\n",
    "```"
   ]
  },
  {
   "cell_type": "code",
   "execution_count": 19,
   "metadata": {},
   "outputs": [],
   "source": [
    "from tkinter import *  \n",
    "from tkinter import messagebox  \n",
    "\n",
    "def clicked():  \n",
    "    messagebox.showwarning('Заголовок', 'Текст')  # показывает предупреждающее сообщение\n",
    "\n",
    "window = Tk()  \n",
    "window.title(\"Добро пожаловать в приложение PythonRu\")  \n",
    "window.geometry('400x250')  \n",
    "btn = Button(window, text='Клик', command=clicked)  \n",
    "btn.grid(column=0, row=0)  \n",
    "window.mainloop()"
   ]
  },
  {
   "cell_type": "markdown",
   "metadata": {},
   "source": [
    "![](../../pics/2020-12-18/showwarning.png)"
   ]
  },
  {
   "cell_type": "code",
   "execution_count": 20,
   "metadata": {},
   "outputs": [],
   "source": [
    "from tkinter import *  \n",
    "from tkinter import messagebox  \n",
    "\n",
    "def clicked():  \n",
    "    messagebox.showerror('Заголовок', 'Текст')  # показывает сообщение об ошибке\n",
    "\n",
    "window = Tk()  \n",
    "window.title(\"Добро пожаловать в приложение PythonRu\")  \n",
    "window.geometry('400x250')  \n",
    "btn = Button(window, text='Клик', command=clicked)  \n",
    "btn.grid(column=0, row=0)  \n",
    "window.mainloop()"
   ]
  },
  {
   "cell_type": "markdown",
   "metadata": {},
   "source": [
    "![](../../pics/2020-12-18/showerror.png)"
   ]
  },
  {
   "cell_type": "markdown",
   "metadata": {},
   "source": [
    "## Показ диалоговых окон с выбором варианта\n",
    "\n",
    "Чтобы показать пользователю сообщение “да/нет”, вы можете использовать одну из следующих функций messagebox:\n",
    "\n",
    "\n",
    "\n"
   ]
  },
  {
   "cell_type": "code",
   "execution_count": 21,
   "metadata": {},
   "outputs": [],
   "source": [
    "from tkinter import messagebox\n",
    "\n",
    "res = messagebox.askquestion('Заголовок', 'Текст')\n",
    "res = messagebox.askyesno('Заголовок', 'Текст')\n",
    "res = messagebox.askyesnocancel('Заголовок', 'Текст')\n",
    "res = messagebox.askokcancel('Заголовок', 'Текст')\n",
    "res = messagebox.askretrycancel('Заголовок', 'Текст')"
   ]
  },
  {
   "cell_type": "markdown",
   "metadata": {},
   "source": [
    "Вы можете выбрать соответствующий стиль сообщения согласно вашим потребностям. Просто замените строку функции showinfo на одну из предыдущих и запустите скрипт. Кроме того, можно проверить, какая кнопка нажата, используя переменную результата.\n",
    "\n",
    "Если вы кликнете **OK**, **yes** или **retry**, значение станет **True**, а если выберете **no** или **cancel**, значение будет **False**.\n",
    "\n",
    "Единственной функцией, которая возвращает одно из трех значений, является функция askyesnocancel; она возвращает **True/False/None**."
   ]
  },
  {
   "cell_type": "markdown",
   "metadata": {},
   "source": [
    "## Добавление SpinBox (Виджет спинбокс)\n",
    "\n",
    "Для создания виджета спинбокса, используйте класс Spinbox:\n",
    "\n",
    "```python\n",
    "spin = Spinbox(window, from_=0, to=100)\n",
    "```\n",
    "\n",
    "Таким образом, мы создаем виджет Spinbox, и передаем параметры from и to, чтобы указать диапазон номеров.\n",
    "\n",
    "Кроме того, вы можете указать ширину виджета с помощью параметра width:\n",
    "\n",
    "```python\n",
    "spin = Spinbox(window, from_=0, to=100, width=5)\n",
    "```\n",
    "\n",
    "Проверим пример полностью:"
   ]
  },
  {
   "cell_type": "code",
   "execution_count": 22,
   "metadata": {},
   "outputs": [],
   "source": [
    "from tkinter import *  \n",
    "\n",
    "window = Tk()  \n",
    "window.title(\"Добро пожаловать в приложение PythonRu\")  \n",
    "window.geometry('400x250')  \n",
    "spin = Spinbox(window, from_=0, to=100, width=5)  \n",
    "spin.grid(column=0, row=0)  \n",
    "window.mainloop()"
   ]
  },
  {
   "cell_type": "markdown",
   "metadata": {},
   "source": [
    "![](../../pics/2020-12-18/Spinbox.png)\n",
    "\n",
    "Вы можете указать числа для Spinbox, вместо использования всего диапазона следующим образом:\n",
    "\n",
    "```python\n",
    "spin = Spinbox(window, values=(3, 8, 11), width=5)\n",
    "```\n",
    "\n",
    "Виджет покажет только эти 3 числа: 3, 8 и 11."
   ]
  },
  {
   "cell_type": "markdown",
   "metadata": {},
   "source": [
    "## Задать значение по умолчанию для Spinbox\n",
    "\n",
    "В случае, если вам нужно задать значение по умолчанию для Spinbox, вы можете передать значение параметру textvariable следующим образом:\n",
    "\n",
    "```python\n",
    "var = IntVar()\n",
    "var.set(36)\n",
    "spin = Spinbox(window, from_=0, to=100, width=5, textvariable=var)\n",
    "```\n",
    "\n",
    "Теперь, если вы запустите программу, она покажет 36 как значение по умолчанию для Spinbox."
   ]
  },
  {
   "cell_type": "code",
   "execution_count": 23,
   "metadata": {},
   "outputs": [],
   "source": [
    "from tkinter import *  \n",
    "\n",
    "window = Tk()  \n",
    "window.title(\"Добро пожаловать в приложение PythonRu\")  \n",
    "window.geometry('400x250')  \n",
    "\n",
    "var = IntVar()\n",
    "var.set(36)\n",
    "spin = Spinbox(window, from_=0, to=100, width=5, textvariable=var)\n",
    "\n",
    "spin.grid(column=0, row=0)  \n",
    "window.mainloop()"
   ]
  },
  {
   "cell_type": "markdown",
   "metadata": {},
   "source": [
    "![](../../pics/2020-12-18/Spinbox-textvariable.png)"
   ]
  },
  {
   "cell_type": "markdown",
   "metadata": {},
   "source": [
    "## Добавление виджета Progressbar\n",
    "\n",
    "Чтобы создать данный виджет, используйте класс progressbar :\n",
    "\n",
    "```python\n",
    "from tkinter.ttk import Progressbar\n",
    "\n",
    "bar = Progressbar(window, length=200)\n",
    "```\n",
    "\n",
    "Установите значение progressbar таким образом:\n",
    "\n",
    "```python\n",
    "bar['value'] = 70\n",
    "```\n",
    "\n",
    "Вы можете установить это значение на основе любого процесса или при выполнении задачи."
   ]
  },
  {
   "cell_type": "markdown",
   "metadata": {},
   "source": [
    "## Изменение цвета Progressbar\n",
    "\n",
    "Изменение цвета Progressbar немного сложно. Сначала нужно создать стиль и задать цвет фона, а затем настроить созданный стиль на Progressbar. Посмотрите следующий пример:"
   ]
  },
  {
   "cell_type": "code",
   "execution_count": 24,
   "metadata": {},
   "outputs": [],
   "source": [
    "from tkinter import *  \n",
    "from tkinter.ttk import Progressbar  \n",
    "from tkinter import ttk  \n",
    "\n",
    "window = Tk()  \n",
    "window.title(\"Добро пожаловать в приложение PythonRu\")  \n",
    "window.geometry('400x250')  \n",
    "style = ttk.Style()  \n",
    "style.theme_use('default')  \n",
    "style.configure(\"black.Horizontal.TProgressbar\", background='black')  \n",
    "bar = Progressbar(window, length=200, style='black.Horizontal.TProgressbar')  \n",
    "bar['value'] = 70  \n",
    "bar.grid(column=0, row=0)  \n",
    "window.mainloop()"
   ]
  },
  {
   "cell_type": "markdown",
   "metadata": {},
   "source": [
    "И в результате вы получите следующее:\n",
    "\n",
    "![](../../pics/2020-12-18/Progressbar.png)"
   ]
  },
  {
   "cell_type": "markdown",
   "metadata": {},
   "source": [
    "## Добавление поля загрузки файла\n",
    "\n",
    "Для добавления поля с файлом, используйте класс filedialog:\n",
    "\n",
    "```python\n",
    "from tkinter import filedialog\n",
    "\n",
    "file = filedialog.askopenfilename()\n",
    "```\n",
    "\n",
    "После того, как вы выберете файл, нажмите “Открыть”; переменная файла будет содержать этот путь к файлу. Кроме того, вы можете запросить несколько файлов:\n",
    "\n",
    "```python\n",
    "files = filedialog.askopenfilenames()\n",
    "```"
   ]
  },
  {
   "cell_type": "markdown",
   "metadata": {},
   "source": [
    "## Указание типа файлов (расширение фильтра файлов)\n",
    "\n",
    "Возможность указания типа файлов доступна при использовании параметра filetypes, однако при этом важно указать расширение в tuples.\n",
    "\n",
    "```python\n",
    "file = filedialog.askopenfilename(filetypes = ((\"Text files\",\"*.txt\"),(\"all files\",\"*.*\")))\n",
    "```\n",
    "\n",
    "Вы можете запросить каталог, используя метод askdirectory:\n",
    "\n",
    "```python\n",
    "dir = filedialog.askdirectory()\n",
    "```\n",
    "\n",
    "Вы можете указать начальную директорию для диалогового окна файла, указав initialdir следующим образом:\n",
    "\n",
    "```python\n",
    "from os import path\n",
    "file = filedialog.askopenfilename(initialdir= path.dirname(__file__))\n",
    "```\n",
    "\n",
    "Легко!"
   ]
  },
  {
   "cell_type": "markdown",
   "metadata": {},
   "source": [
    "## Добавление панели меню\n",
    "\n",
    "Для добавления панели меню, используйте класс menu:\n",
    "\n",
    "```\n",
    "from tkinter import Menu\n",
    "\n",
    "menu = Menu(window)\n",
    "menu.add_command(label='Файл')\n",
    "window.config(menu=menu)\n",
    "```\n",
    "\n",
    "Сначала мы создаем меню, затем добавляем наш первый пункт подменю. Вы можете добавлять пункты меню в любое меню с помощью функции add_cascade() таким образом:\n",
    "\n",
    "```python\n",
    "menu.add_cascade(label='Автор', menu=new_item)\n",
    "```\n",
    "\n",
    "Наш код будет выглядеть так:"
   ]
  },
  {
   "cell_type": "code",
   "execution_count": 25,
   "metadata": {},
   "outputs": [],
   "source": [
    "from tkinter import *  \n",
    "from tkinter import Menu  \n",
    "\n",
    "window = Tk()  \n",
    "window.title(\"Добро пожаловать в приложение PythonRu\")  \n",
    "window.geometry('400x250')  \n",
    "menu = Menu(window)  \n",
    "new_item = Menu(menu)  \n",
    "new_item.add_command(label='Новый')  \n",
    "menu.add_cascade(label='Файл', menu=new_item)  \n",
    "window.config(menu=menu)  \n",
    "window.mainloop()"
   ]
  },
  {
   "cell_type": "markdown",
   "metadata": {},
   "source": [
    "![](../../pics/2020-12-18/Menu.png)\n",
    "![](Menu.png)\n",
    "\n",
    "Теперь мы добавляем еще один пункт меню “Изменить” с разделителем меню. Вы можете заметить пунктирную линию в начале, если вы нажмете на эту строку, она отобразит пункты меню в небольшом отдельном окне.\n",
    "\n",
    "Можно отключить эту функцию, с помощью tearoff подобным образом:\n",
    "\n",
    "```python\n",
    "new_item = Menu(menu, tearoff=0)\n",
    "```\n",
    "\n",
    "Просто отредактируйте new_item, как в приведенном выше примере и он больше не будет отображать пунктирную линию.\n",
    "\n",
    "Вы так же можете ввести любой код, который работает, при нажатии пользователем на любой элемент меню, задавая свойство команды.\n",
    "\n",
    "```python\n",
    "new_item.add_command(label='Новый', command=clicked)\n",
    "```"
   ]
  },
  {
   "cell_type": "markdown",
   "metadata": {},
   "source": [
    "## Добавление виджета Notebook (Управление вкладкой)\n",
    "\n",
    "Для удобного управления вкладками реализуйте следующее:\n",
    "- Для начала, создается элемент управления вкладкой, с помощью класса Notebook .\n",
    "- Создайте вкладку, используя класс Frame.\n",
    "- Добавьте эту вкладку в элемент управления вкладками.\n",
    "- Запакуйте элемент управления вкладкой, чтобы он стал видимым в окне."
   ]
  },
  {
   "cell_type": "code",
   "execution_count": 26,
   "metadata": {},
   "outputs": [],
   "source": [
    "from tkinter import *  \n",
    "from tkinter import ttk  \n",
    "\n",
    "window = Tk()  \n",
    "window.title(\"Добро пожаловать в приложение PythonRu\")  \n",
    "window.geometry('400x250')  \n",
    "tab_control = ttk.Notebook(window)  \n",
    "tab1 = ttk.Frame(tab_control)  \n",
    "tab_control.add(tab1, text='Первая')  \n",
    "tab_control.pack(expand=1, fill='both')  \n",
    "window.mainloop()"
   ]
  },
  {
   "cell_type": "markdown",
   "metadata": {},
   "source": [
    "![](../../pics/2020-12-18/Frame.png)\n",
    "\n",
    "Таким образом, вы можете добавлять столько вкладок, сколько нужно."
   ]
  },
  {
   "cell_type": "markdown",
   "metadata": {},
   "source": [
    "## Добавление виджетов на вкладку\n",
    "\n",
    "После создания вкладок вы можете поместить виджеты внутри этих вкладок, назначив родительское свойство нужной вкладке."
   ]
  },
  {
   "cell_type": "code",
   "execution_count": 27,
   "metadata": {},
   "outputs": [],
   "source": [
    "from tkinter import *  \n",
    "from tkinter import ttk  \n",
    "\n",
    "window = Tk()  \n",
    "window.title(\"Добро пожаловать в приложение PythonRu\")  \n",
    "window.geometry('400x250')  \n",
    "tab_control = ttk.Notebook(window)  \n",
    "tab1 = ttk.Frame(tab_control)  \n",
    "tab2 = ttk.Frame(tab_control)  \n",
    "tab_control.add(tab1, text='Первая')  \n",
    "tab_control.add(tab2, text='Вторая')  \n",
    "lbl1 = Label(tab1, text='Вкладка 1')  \n",
    "lbl1.grid(column=0, row=0)  \n",
    "lbl2 = Label(tab2, text='Вкладка 2')  \n",
    "lbl2.grid(column=0, row=0)  \n",
    "tab_control.pack(expand=1, fill='both')  \n",
    "window.mainloop()"
   ]
  },
  {
   "cell_type": "markdown",
   "metadata": {},
   "source": [
    "![](../../pics/2020-12-18/tab1.png)\n",
    "\n",
    "![](../../pics/2020-12-18/tab2.png)"
   ]
  },
  {
   "cell_type": "markdown",
   "metadata": {},
   "source": [
    "## Добавление интервала для виджетов (Заполнение)\n",
    "\n",
    "Вы можете добавить отступы для элементов управления, чтобы они выглядели хорошо организованными с использованием свойств padx и pady.\n",
    "\n",
    "Передайте padx и pady любому виджету и задайте значение.\n",
    "\n",
    "```python\n",
    "lbl1 = Label(tab1, text= 'label1', padx=5, pady=5)\n",
    "```\n",
    "\n",
    "Это очень просто!"
   ]
  }
 ],
 "metadata": {
  "kernelspec": {
   "display_name": "Python 3",
   "language": "python",
   "name": "python3"
  },
  "language_info": {
   "codemirror_mode": {
    "name": "ipython",
    "version": 3
   },
   "file_extension": ".py",
   "mimetype": "text/x-python",
   "name": "python",
   "nbconvert_exporter": "python",
   "pygments_lexer": "ipython3",
   "version": "3.8.6"
  }
 },
 "nbformat": 4,
 "nbformat_minor": 4
}
