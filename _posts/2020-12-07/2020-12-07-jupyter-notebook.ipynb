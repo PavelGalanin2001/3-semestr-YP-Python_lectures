{
 "cells": [
  {
   "cell_type": "markdown",
   "metadata": {},
   "source": [
    "# Test 3"
   ]
  },
  {
   "cell_type": "markdown",
   "metadata": {},
   "source": [
    "## №1\n",
    "\n",
    "Есть список\n",
    "\n",
    "a = [1, 1, 2, 3, 5, 8, 13, 21, 34, 55, 89]\n",
    "\n",
    "Выведите все элементы, которые меньше 5. "
   ]
  },
  {
   "cell_type": "code",
   "execution_count": 1,
   "metadata": {},
   "outputs": [
    {
     "name": "stdout",
     "output_type": "stream",
     "text": [
      "[1, 1, 2, 3]\n",
      "\n",
      "[1, 1, 2, 3]\n",
      "[1, 1, 2, 3]\n"
     ]
    }
   ],
   "source": [
    "a = [1, 1, 2, 3, 5, 8, 13, 21, 34, 55, 89]\n",
    "\n",
    "# My code:\n",
    "result = []\n",
    "for i in range(len(a)):\n",
    "    if a[i] < 5:\n",
    "        result.append(a[i])\n",
    "print(result)\n",
    "\n",
    "print()\n",
    "\n",
    "# Code from the Internet:\n",
    "result = list(filter(lambda elem: elem < 5, a))\n",
    "print(result)\n",
    "\n",
    "result = [elem for elem in a if elem < 5]\n",
    "print(result)"
   ]
  },
  {
   "cell_type": "markdown",
   "metadata": {},
   "source": [
    "## №2\n",
    "\n",
    "Даны списки:\n",
    "\n",
    "a = [1, 1, 2, 3, 5, 8, 13, 21, 34, 55, 89]\n",
    "\n",
    "b = [1, 2, 3, 4, 5, 6, 7, 8, 9, 10, 11, 12, 13]\n",
    "\n",
    "Нужно вернуть список, который состоит из элементов, общих для этих двух списков."
   ]
  },
  {
   "cell_type": "code",
   "execution_count": 2,
   "metadata": {},
   "outputs": [
    {
     "name": "stdout",
     "output_type": "stream",
     "text": [
      "[1, 1, 2, 3, 5, 8, 13]\n",
      "[1, 1, 2, 3, 5, 8, 13]\n"
     ]
    }
   ],
   "source": [
    "a = [1, 1, 2, 3, 5, 8, 13, 21, 34, 55, 89]\n",
    "b = [1, 2, 3, 4, 5, 6, 7, 8, 9, 10, 11, 12, 13]\n",
    "\n",
    "# My code:\n",
    "def AuB(a, b):\n",
    "    result = []\n",
    "    for i in range(len(a)):\n",
    "        for j in range(len(b)):\n",
    "            if a[i] == b[j]:\n",
    "                result.append(a[i])\n",
    "    return result\n",
    "    \n",
    "print(AuB(a, b))\n",
    "\n",
    "# Code from the Internet\n",
    "result = list(filter(lambda elem: elem in b, a))\n",
    "print(result)"
   ]
  },
  {
   "cell_type": "markdown",
   "metadata": {},
   "source": [
    "## №3\n",
    "\n",
    "Отсортируйте словарь по значению в порядке возрастания и убывания."
   ]
  },
  {
   "cell_type": "code",
   "execution_count": 3,
   "metadata": {},
   "outputs": [
    {
     "name": "stdout",
     "output_type": "stream",
     "text": [
      "Словарь:\n",
      "{0: 5654, 1: 3243, 2: 1, 3: 654, 4: 65756, 5: 23, 6: 76, 7: 23, 8: 87987, 9: 24}\n",
      "\n",
      "Словарь сортированый по возврастанию:\n",
      "[[2, 5, 7, 9, 6, 3, 1, 0, 4, 8], [1, 23, 23, 24, 76, 654, 3243, 5654, 65756, 87987]]\n",
      "\n",
      "Словарь сортированый по убыванию:\n",
      "[[8, 4, 0, 1, 3, 6, 9, 5, 7, 2], [87987, 65756, 5654, 3243, 654, 76, 24, 23, 23, 1]]\n",
      "\n",
      "\n",
      "Словарь:\n",
      "{0: 5654, 1: 3243, 2: 1, 3: 654, 4: 65756, 5: 23, 6: 76, 7: 23, 8: 87987, 9: 24}\n",
      "\n",
      "Словарь сортированый по возврастанию:\n",
      "{2: 1, 5: 23, 7: 23, 9: 24, 6: 76, 3: 654, 1: 3243, 0: 5654, 4: 65756, 8: 87987}\n",
      "\n",
      "Словарь сортированый по убыванию:\n",
      "{8: 87987, 4: 65756, 0: 5654, 1: 3243, 3: 654, 6: 76, 9: 24, 5: 23, 7: 23, 2: 1}\n",
      "\n"
     ]
    }
   ],
   "source": [
    "myDict = {\n",
    "    0: 5654,\n",
    "    1: 3243,\n",
    "    2: 1,\n",
    "    3: 654,\n",
    "    4: 65756,\n",
    "    5: 23,\n",
    "    6: 76,\n",
    "    7: 23,\n",
    "    8: 87987,\n",
    "    9: 24\n",
    "}\n",
    "\n",
    "# Мой код\n",
    "def myDictSort(myDict):\n",
    "    arr = [[], []]\n",
    "    for i in myDict:\n",
    "        arr[0].append(i)\n",
    "        arr[1].append(myDict[i])\n",
    "    for i in myDict:\n",
    "        for j in myDict:\n",
    "            if arr[1][i] < arr[1][j]:\n",
    "                arr[0][i], arr[0][j] = arr[0][j], arr[0][i]\n",
    "                arr[1][i], arr[1][j] = arr[1][j], arr[1][i]\n",
    "    return arr\n",
    "    \n",
    "def myDictSort2(myDict):\n",
    "    arr = [[], []]\n",
    "    for i in myDict:\n",
    "        arr[0].append(i)\n",
    "        arr[1].append(myDict[i])\n",
    "    for i in myDict:\n",
    "        for j in myDict:\n",
    "            if arr[1][i] > arr[1][j]:\n",
    "                arr[0][i], arr[0][j] = arr[0][j], arr[0][i]\n",
    "                arr[1][i], arr[1][j] = arr[1][j], arr[1][i]\n",
    "    return arr\n",
    "    \n",
    "print(\"Словарь:\\n%a\\n\" % myDict)\n",
    "\n",
    "result = myDictSort(myDict)\n",
    "print(\"Словарь сортированый по возврастанию:\\n%a\\n\" % result)\n",
    "\n",
    "result = myDictSort2(myDict)\n",
    "print(\"Словарь сортированый по убыванию:\\n%a\\n\" % result)\n",
    "\n",
    "print()\n",
    "\n",
    "# С инета:\n",
    "import operator\n",
    "\n",
    "print(\"Словарь:\\n%a\\n\" % myDict)\n",
    "\n",
    "result = dict(sorted(myDict.items(), key=operator.itemgetter(1)))\n",
    "print(\"Словарь сортированый по возврастанию:\\n%a\\n\" % result)\n",
    "\n",
    "result = dict(sorted(myDict.items(), key=operator.itemgetter(1), reverse=True))\n",
    "print(\"Словарь сортированый по убыванию:\\n%a\\n\" % result)"
   ]
  },
  {
   "cell_type": "markdown",
   "metadata": {},
   "source": [
    "## №4\n",
    "\n",
    "Напишите программу для слияния нескольких словарей в один. "
   ]
  },
  {
   "cell_type": "code",
   "execution_count": 4,
   "metadata": {},
   "outputs": [
    {
     "name": "stdout",
     "output_type": "stream",
     "text": [
      "{0: 54, 1: 11111, 3: 67, 4: 654, 5: 55555, 6: 464, 2: 22222, 7: 77777, 8: 88888}\n",
      "\n",
      "{0: 54, 1: 11111, 3: 67, 4: 654, 5: 55555, 6: 464, 2: 22222, 7: 77777, 8: 88888}\n",
      "{0: 54, 1: 11111, 3: 67, 4: 654, 5: 55555, 6: 464, 2: 22222, 7: 77777, 8: 88888}\n"
     ]
    }
   ],
   "source": [
    "myDict1 = {\n",
    "    0: 54,\n",
    "    1: 4643,\n",
    "    3: 67,\n",
    "    4: 654,\n",
    "    5: 4543,\n",
    "    6: 464\n",
    "}\n",
    "\n",
    "myDict2 = {\n",
    "    1: 11111,\n",
    "    2: 22222,\n",
    "    5: 55555,\n",
    "    7: 77777,\n",
    "    8: 88888\n",
    "}\n",
    "\n",
    "# My code\n",
    "result = {}\n",
    "result.update(myDict1)\n",
    "result.update(myDict2)\n",
    "print(result)\n",
    "print()\n",
    "\n",
    "# Code from the internet\n",
    "result = {}\n",
    "for d in (myDict1, myDict2):\n",
    "    result.update(d)\n",
    "print(result)\n",
    "\n",
    "result = {**myDict1, **myDict2}\n",
    "print(result)"
   ]
  },
  {
   "cell_type": "markdown",
   "metadata": {},
   "source": [
    "## №5\n",
    "\n",
    "Найдите три ключа с самыми высокими значениями в словаре\n",
    "\n",
    "```python\n",
    "my_dict = {\n",
    "    'a': 500,\n",
    "    'b': 5874,\n",
    "    'c': 560,\n",
    "    'd': 400,\n",
    "    'e': 5874,\n",
    "    'f': 20\n",
    "}\n",
    "```"
   ]
  },
  {
   "cell_type": "code",
   "execution_count": 5,
   "metadata": {},
   "outputs": [
    {
     "name": "stdout",
     "output_type": "stream",
     "text": [
      "b\n",
      "e\n",
      "c\n",
      "\n",
      "['b', 'e', 'c']\n",
      "['b', 'e', 'c']\n"
     ]
    }
   ],
   "source": [
    "my_dict = {\n",
    "    'a': 500,\n",
    "    'b': 5874,\n",
    "    'c': 560,\n",
    "    'd': 400,\n",
    "    'e': 5874,\n",
    "    'f': 20\n",
    "}\n",
    "\n",
    "# My code\n",
    "myList = [\n",
    "    [], # для ключей\n",
    "    [] # для значений\n",
    "]\n",
    "\n",
    "for i in my_dict:\n",
    "    myList[0].append(i)\n",
    "    myList[1].append(my_dict[i])\n",
    "    \n",
    "for i in range(len(myList[1])):\n",
    "    for j in range(len(myList[1])):\n",
    "        if myList[1][i] < myList[1][j]:\n",
    "            myList[0][i], myList[0][j] = myList[0][j], myList[0][i]\n",
    "            myList[1][i], myList[1][j] = myList[1][j], myList[1][i]\n",
    "            \n",
    "print(myList[0][-1])\n",
    "print(myList[0][-2])\n",
    "print(myList[0][-3])\n",
    "\n",
    "print()\n",
    "\n",
    "# Code from the Internet\n",
    "result = sorted(my_dict, key=my_dict.get, reverse=True)[:3]\n",
    "print(result)\n",
    "\n",
    "from heapq import nlargest\n",
    "result = nlargest(3, my_dict, key=my_dict.get)\n",
    "print(result)"
   ]
  },
  {
   "cell_type": "markdown",
   "metadata": {},
   "source": [
    "## №6\n",
    "\n",
    "Напишите код, который переводит целое число в строку, при том что его можно применить в любой системе счисления."
   ]
  },
  {
   "cell_type": "code",
   "execution_count": 6,
   "metadata": {},
   "outputs": [
    {
     "name": "stdout",
     "output_type": "stream",
     "text": [
      "10\n",
      "11\n",
      "12\n",
      "13\n",
      "14\n",
      "15\n",
      "\n",
      "2748\n"
     ]
    }
   ],
   "source": [
    "# я не понял что хотят\n",
    "print(int('a', 16))\n",
    "print(int('b', 16))\n",
    "print(int('c', 16))\n",
    "print(int('d', 16))\n",
    "print(int('e', 16))\n",
    "print(int('f', 16))\n",
    "print()\n",
    "\n",
    "# код с инета\n",
    "print(int('ABC', 16))"
   ]
  },
  {
   "cell_type": "markdown",
   "metadata": {},
   "source": [
    "## №7\n",
    "\n",
    "Нужно вывести первые n строк треугольника Паскаля. В этом треугольнике на вершине и по бокам стоят единицы, а каждое число внутри равно сумме двух расположенных над ним чисел. "
   ]
  },
  {
   "cell_type": "code",
   "execution_count": 7,
   "metadata": {},
   "outputs": [
    {
     "name": "stdout",
     "output_type": "stream",
     "text": [
      "Err\n",
      "-1\n",
      "\n",
      "Err\n",
      "-1\n",
      "\n",
      "                                                [1]                                                 \n",
      "[[1]]\n",
      "\n",
      "                                                [1]                                                 \n",
      "                                               [1, 1]                                               \n",
      "[[1], [1, 1]]\n",
      "\n",
      "                                                [1]                                                 \n",
      "                                               [1, 1]                                               \n",
      "                                             [1, 2, 1]                                              \n",
      "[[1], [1, 1], [1, 2, 1]]\n",
      "\n",
      "                                                [1]                                                 \n",
      "                                               [1, 1]                                               \n",
      "                                             [1, 2, 1]                                              \n",
      "                                            [1, 3, 3, 1]                                            \n",
      "[[1], [1, 1], [1, 2, 1], [1, 3, 3, 1]]\n",
      "\n",
      "                                                [1]                                                 \n",
      "                                               [1, 1]                                               \n",
      "                                             [1, 2, 1]                                              \n",
      "                                            [1, 3, 3, 1]                                            \n",
      "                                          [1, 4, 6, 4, 1]                                           \n",
      "[[1], [1, 1], [1, 2, 1], [1, 3, 3, 1], [1, 4, 6, 4, 1]]\n",
      "\n",
      "                                                [1]                                                 \n",
      "                                               [1, 1]                                               \n",
      "                                             [1, 2, 1]                                              \n",
      "                                            [1, 3, 3, 1]                                            \n",
      "                                          [1, 4, 6, 4, 1]                                           \n",
      "                                        [1, 5, 10, 10, 5, 1]                                        \n",
      "[[1], [1, 1], [1, 2, 1], [1, 3, 3, 1], [1, 4, 6, 4, 1], [1, 5, 10, 10, 5, 1]]\n",
      "\n",
      "                                                [1]                                                 \n",
      "                                               [1, 1]                                               \n",
      "                                             [1, 2, 1]                                              \n",
      "                                            [1, 3, 3, 1]                                            \n",
      "                                          [1, 4, 6, 4, 1]                                           \n",
      "                                        [1, 5, 10, 10, 5, 1]                                        \n",
      "                                      [1, 6, 15, 20, 15, 6, 1]                                      \n",
      "[[1], [1, 1], [1, 2, 1], [1, 3, 3, 1], [1, 4, 6, 4, 1], [1, 5, 10, 10, 5, 1], [1, 6, 15, 20, 15, 6, 1]]\n",
      "\n",
      "[1]\n",
      "[1, 1]\n",
      "[1, 2, 1]\n",
      "[1, 3, 3, 1]\n",
      "[1, 4, 6, 4, 1]\n",
      "[1, 5, 10, 10, 5, 1]\n"
     ]
    }
   ],
   "source": [
    "# My code\n",
    "def printPascalTriagle(number):\n",
    "    def myPrint(arr, n):\n",
    "        for i in range(n):\n",
    "            el = arr[i]\n",
    "            string = str(el)\n",
    "            formStr = string.center(100, ' ')\n",
    "            print(formStr)\n",
    "    \n",
    "    if number <= 0:\n",
    "        print('Err')\n",
    "        return -1\n",
    "    \n",
    "    elif number == 1:\n",
    "        arr = [[1]]\n",
    "    \n",
    "    elif number == 2:\n",
    "        arr = [[1], [1,1]]\n",
    "    \n",
    "    else:\n",
    "        arr = [[1], [1,1]]\n",
    "        for i in range(2, number):\n",
    "            arr.append([])\n",
    "            arr[i].append(1)\n",
    "            for j in range(len(arr[i-1]) - 1):\n",
    "                arr[i].append(arr[i-1][j] + arr[i-1][j + 1])\n",
    "            arr[i].append(1)\n",
    "            \n",
    "    myPrint(arr, number)\n",
    "    return arr\n",
    "    \n",
    "for i in range(-1, 8):\n",
    "    result = printPascalTriagle(i)\n",
    "    print(result)\n",
    "    print()\n",
    "\n",
    "# Code from the Internet\n",
    "def pascal_triangle(n):\n",
    "    row = [1]\n",
    "    y = [0]\n",
    "    for x in range(max(n, 0)):\n",
    "        print(row)\n",
    "        row = [left + right for left, right in zip(row + y, y + row)]\n",
    "\n",
    "pascal_triangle(6) "
   ]
  },
  {
   "cell_type": "markdown",
   "metadata": {},
   "source": [
    "## №8\n",
    "\n",
    "Напишите проверку на то, является ли строка палиндромом. Палиндром — это слово или фраза, которые одинаково читаются слева направо и справа налево. "
   ]
  },
  {
   "cell_type": "code",
   "execution_count": 8,
   "metadata": {},
   "outputs": [
    {
     "name": "stdout",
     "output_type": "stream",
     "text": [
      "False\n",
      "True\n",
      "\n",
      "False\n",
      "True\n",
      "\n",
      "False\n",
      "True\n"
     ]
    }
   ],
   "source": [
    "str1 = 'abcd'\n",
    "str2 = 'abc5cba'\n",
    "\n",
    "# MyCode\n",
    "def isPalindrom(str):\n",
    "    lst = []\n",
    "    for i in range(len(str) - 1, -1, -1):\n",
    "        lst.append(str[i])\n",
    "    endStr = ''.join(lst)\n",
    "    return str == endStr\n",
    "\n",
    "result = isPalindrom(str1)\n",
    "print(result)\n",
    "\n",
    "result = isPalindrom(str2)\n",
    "print(result)\n",
    "\n",
    "print()\n",
    "\n",
    "# Code from the Internet\n",
    "def isPalindrom1(string):\n",
    "    return string == ''.join(reversed(string))\n",
    "\n",
    "result = isPalindrom1(str1)\n",
    "print(result)\n",
    "\n",
    "result = isPalindrom1(str2)\n",
    "print(result)\n",
    "\n",
    "print()\n",
    "\n",
    "def isPalindrom2(string):\n",
    "    return string == string[::-1]\n",
    "\n",
    "result = isPalindrom2(str1)\n",
    "print(result)\n",
    "\n",
    "result = isPalindrom2(str2)\n",
    "print(result)"
   ]
  },
  {
   "cell_type": "markdown",
   "metadata": {},
   "source": [
    "## №9\n",
    "\n",
    "Вы принимаете от пользователя последовательность чисел, разделённых запятой. Составьте список и кортеж с этими числами. "
   ]
  },
  {
   "cell_type": "code",
   "execution_count": 9,
   "metadata": {},
   "outputs": [
    {
     "name": "stdout",
     "output_type": "stream",
     "text": [
      "Введите числа через запятую: 1,2,3,4,5\n",
      "List: [1, 2, 3, 4, 5]\n",
      "Tuple:  (1, 2, 3, 4, 5)\n",
      "\n",
      "Введите числа через запятую: 6,7,8,9,10\n",
      "Список: [6, 7, 8, 9, 10]\n",
      "Кортеж: (6, 7, 8, 9, 10)\n"
     ]
    }
   ],
   "source": [
    "# My code\n",
    "myVar = input('Введите числа через запятую: ')\n",
    "myArr = myVar.split(',')\n",
    "\n",
    "for i in range(len(myArr)):\n",
    "    myArr[i] = int(myArr[i])\n",
    "\n",
    "lstResult = myArr\n",
    "print('List:', lstResult)\n",
    "\n",
    "tupleResult = tuple(lstResult)\n",
    "print('Tuple: ', tupleResult)\n",
    "print()\n",
    "\n",
    "# Code from the Internet\n",
    "values = input('Введите числа через запятую: ')\n",
    "ints_as_strings = values.split(',')\n",
    "ints = map(int, ints_as_strings)\n",
    "lst = list(ints)\n",
    "tup = tuple(lst)\n",
    "print('Список:', lst)\n",
    "print('Кортеж:', tup)"
   ]
  },
  {
   "cell_type": "markdown",
   "metadata": {},
   "source": [
    "## №10\n",
    "\n",
    "Сделайте так, чтобы число секунд отображалось в виде дни:часы:минуты:секунды"
   ]
  },
  {
   "cell_type": "code",
   "execution_count": 10,
   "metadata": {},
   "outputs": [
    {
     "name": "stdout",
     "output_type": "stream",
     "text": [
      "14:6:56:5\n",
      "14:6:56:5\n"
     ]
    }
   ],
   "source": [
    "# My code\n",
    "def getSecondsInFormat(seconds):\n",
    "    days = int(seconds / (24 * 60 * 60))\n",
    "    seconds -= days * 24 * 60 * 60\n",
    "    \n",
    "    hours = int(seconds / (60 * 60))\n",
    "    seconds -= hours * 60 * 60\n",
    "    \n",
    "    minutes = int(seconds / 60)\n",
    "    seconds -= minutes * 60\n",
    "    \n",
    "    return '%d:%d:%d:%d' % (days, hours, minutes, seconds)\n",
    "\n",
    "result = getSecondsInFormat(1234565)\n",
    "print(result)\n",
    "\n",
    "# Code from the Internet\n",
    "def convert(seconds):\n",
    "    days = seconds // (24 * 3600)\n",
    "    seconds %= 24 * 3600\n",
    "    hours = seconds // 3600\n",
    "    seconds %= 3600\n",
    "    minutes = seconds // 60\n",
    "    seconds %= 60\n",
    "    print(f'{days}:{hours}:{minutes}:{seconds}')\n",
    "\n",
    "convert(1234565)"
   ]
  },
  {
   "cell_type": "markdown",
   "metadata": {},
   "source": [
    "## №11\n",
    "\n",
    "Выведите первый и последний элемент списка."
   ]
  },
  {
   "cell_type": "code",
   "execution_count": 11,
   "metadata": {},
   "outputs": [
    {
     "name": "stdout",
     "output_type": "stream",
     "text": [
      "gtrg\n",
      "8\n"
     ]
    }
   ],
   "source": [
    "lst = ['gtrg', 32, 5.34, 444, 6, '324', 8]\n",
    "\n",
    "print(lst[0])\n",
    "print(lst[-1])"
   ]
  },
  {
   "cell_type": "markdown",
   "metadata": {},
   "source": [
    "## №12\n",
    "\n",
    "Напишите программу, которая принимает имя файла и выводит его расширение. Если расширение у файла определить невозможно, выбросите исключение. "
   ]
  },
  {
   "cell_type": "code",
   "execution_count": 12,
   "metadata": {},
   "outputs": [
    {
     "name": "stdout",
     "output_type": "stream",
     "text": [
      "py\n",
      "gitignore\n",
      "No extension\n",
      "\n",
      "\n",
      "py\n"
     ]
    },
    {
     "ename": "ValueError",
     "evalue": "the file has no extension",
     "output_type": "error",
     "traceback": [
      "\u001b[0;31m---------------------------------------------------------------------------\u001b[0m",
      "\u001b[0;31mValueError\u001b[0m                                Traceback (most recent call last)",
      "\u001b[0;32m<ipython-input-12-dd4205b45537>\u001b[0m in \u001b[0;36m<module>\u001b[0;34m\u001b[0m\n\u001b[1;32m     36\u001b[0m \u001b[0;34m\u001b[0m\u001b[0m\n\u001b[1;32m     37\u001b[0m \u001b[0mprint\u001b[0m\u001b[0;34m(\u001b[0m\u001b[0mget_extension\u001b[0m\u001b[0;34m(\u001b[0m\u001b[0;34m'abc.py'\u001b[0m\u001b[0;34m)\u001b[0m\u001b[0;34m)\u001b[0m\u001b[0;34m\u001b[0m\u001b[0;34m\u001b[0m\u001b[0m\n\u001b[0;32m---> 38\u001b[0;31m \u001b[0mprint\u001b[0m\u001b[0;34m(\u001b[0m\u001b[0mget_extension\u001b[0m\u001b[0;34m(\u001b[0m\u001b[0;34m'abc'\u001b[0m\u001b[0;34m)\u001b[0m\u001b[0;34m)\u001b[0m  \u001b[0;31m# raises ValueError\u001b[0m\u001b[0;34m\u001b[0m\u001b[0;34m\u001b[0m\u001b[0m\n\u001b[0m\u001b[1;32m     39\u001b[0m \u001b[0mprint\u001b[0m\u001b[0;34m(\u001b[0m\u001b[0mget_extension\u001b[0m\u001b[0;34m(\u001b[0m\u001b[0;34m'.abc'\u001b[0m\u001b[0;34m)\u001b[0m\u001b[0;34m)\u001b[0m   \u001b[0;31m# raises ValueError\u001b[0m\u001b[0;34m\u001b[0m\u001b[0;34m\u001b[0m\u001b[0m\n\u001b[1;32m     40\u001b[0m \u001b[0mprint\u001b[0m\u001b[0;34m(\u001b[0m\u001b[0mget_extension\u001b[0m\u001b[0;34m(\u001b[0m\u001b[0;34m'.abc.def.'\u001b[0m\u001b[0;34m)\u001b[0m\u001b[0;34m)\u001b[0m   \u001b[0;31m# raises ValueError\u001b[0m\u001b[0;34m\u001b[0m\u001b[0;34m\u001b[0m\u001b[0m\n",
      "\u001b[0;32m<ipython-input-12-dd4205b45537>\u001b[0m in \u001b[0;36mget_extension\u001b[0;34m(filename)\u001b[0m\n\u001b[1;32m     28\u001b[0m     \u001b[0mfilename_parts\u001b[0m \u001b[0;34m=\u001b[0m \u001b[0mfilename\u001b[0m\u001b[0;34m.\u001b[0m\u001b[0msplit\u001b[0m\u001b[0;34m(\u001b[0m\u001b[0;34m'.'\u001b[0m\u001b[0;34m)\u001b[0m\u001b[0;34m\u001b[0m\u001b[0;34m\u001b[0m\u001b[0m\n\u001b[1;32m     29\u001b[0m     \u001b[0;32mif\u001b[0m \u001b[0mlen\u001b[0m\u001b[0;34m(\u001b[0m\u001b[0mfilename_parts\u001b[0m\u001b[0;34m)\u001b[0m \u001b[0;34m<\u001b[0m \u001b[0;36m2\u001b[0m\u001b[0;34m:\u001b[0m  \u001b[0;31m# filename has no dots\u001b[0m\u001b[0;34m\u001b[0m\u001b[0;34m\u001b[0m\u001b[0m\n\u001b[0;32m---> 30\u001b[0;31m         \u001b[0;32mraise\u001b[0m \u001b[0mValueError\u001b[0m\u001b[0;34m(\u001b[0m\u001b[0;34m'the file has no extension'\u001b[0m\u001b[0;34m)\u001b[0m\u001b[0;34m\u001b[0m\u001b[0;34m\u001b[0m\u001b[0m\n\u001b[0m\u001b[1;32m     31\u001b[0m     \u001b[0mfirst\u001b[0m\u001b[0;34m,\u001b[0m \u001b[0;34m*\u001b[0m\u001b[0mmiddle\u001b[0m\u001b[0;34m,\u001b[0m \u001b[0mlast\u001b[0m \u001b[0;34m=\u001b[0m \u001b[0mfilename_parts\u001b[0m\u001b[0;34m\u001b[0m\u001b[0;34m\u001b[0m\u001b[0m\n\u001b[1;32m     32\u001b[0m     \u001b[0;32mif\u001b[0m \u001b[0;32mnot\u001b[0m \u001b[0mlast\u001b[0m \u001b[0;32mor\u001b[0m \u001b[0;32mnot\u001b[0m \u001b[0mfirst\u001b[0m \u001b[0;32mand\u001b[0m \u001b[0;32mnot\u001b[0m \u001b[0mmiddle\u001b[0m\u001b[0;34m:\u001b[0m\u001b[0;34m\u001b[0m\u001b[0;34m\u001b[0m\u001b[0m\n",
      "\u001b[0;31mValueError\u001b[0m: the file has no extension"
     ]
    }
   ],
   "source": [
    "path1 = '/home/pavel/Document/Univer/3-semestr/YP/3-semestr-YP-Cpp_lab-3/src/main.py'\n",
    "path2 = '.gitignore'\n",
    "path3 = 'file'\n",
    "\n",
    "# My code\n",
    "def getNameAndExtension(path):\n",
    "    name = path.split('/')[-1]\n",
    "    arr = name.split('.')\n",
    "    if len(arr) <= 1:\n",
    "        print('No extension')\n",
    "        return ''\n",
    "    else:\n",
    "        return arr[-1]\n",
    "    \n",
    "result = getNameAndExtension(path1)\n",
    "print(result)\n",
    "\n",
    "result = getNameAndExtension(path2)\n",
    "print(result)\n",
    "\n",
    "result = getNameAndExtension(path3)\n",
    "print(result)\n",
    "\n",
    "print()\n",
    "\n",
    "# Code from the Internet\n",
    "def get_extension(filename):\n",
    "    filename_parts = filename.split('.')\n",
    "    if len(filename_parts) < 2:  # filename has no dots\n",
    "        raise ValueError('the file has no extension')\n",
    "    first, *middle, last = filename_parts\n",
    "    if not last or not first and not middle:\n",
    "        # example filenames: .filename, filename., file.name.\n",
    "        raise ValueError('the file has no extension')\n",
    "    return filename_parts[-1]\n",
    "\n",
    "print(get_extension('abc.py'))\n",
    "print(get_extension('abc'))  # raises ValueError\n",
    "print(get_extension('.abc'))   # raises ValueError\n",
    "print(get_extension('.abc.def.'))   # raises ValueError"
   ]
  },
  {
   "cell_type": "markdown",
   "metadata": {},
   "source": [
    "## №13\n",
    "\n",
    "При заданном целом числе n посчитайте n + nn + nnn."
   ]
  },
  {
   "cell_type": "code",
   "execution_count": 13,
   "metadata": {},
   "outputs": [
    {
     "name": "stdout",
     "output_type": "stream",
     "text": [
      "-1\n",
      "0\n",
      "3\n",
      "14\n"
     ]
    }
   ],
   "source": [
    "def func(n):\n",
    "    return n + n*n + n*n*n\n",
    "\n",
    "result = func(-1)\n",
    "print(result)\n",
    "\n",
    "result = func(0)\n",
    "print(result)\n",
    "\n",
    "result = func(1)\n",
    "print(result)\n",
    "\n",
    "result = func(2)\n",
    "print(result)"
   ]
  },
  {
   "cell_type": "markdown",
   "metadata": {},
   "source": [
    "## №14\n",
    "\n",
    "Напишите программу, которая выводит чётные числа из заданного списка и останавливается, если встречает число 237."
   ]
  },
  {
   "cell_type": "code",
   "execution_count": 14,
   "metadata": {},
   "outputs": [
    {
     "name": "stdout",
     "output_type": "stream",
     "text": [
      "-4\n",
      "-2\n",
      "0\n",
      "2\n",
      "4\n"
     ]
    }
   ],
   "source": [
    "lst = [-4,-3,-2,-1,0,1,2,3,4,5,237,6,7,8,9,10,11,12]\n",
    "\n",
    "for i in range(len(lst)):\n",
    "    if lst[i] == 237:\n",
    "        break\n",
    "    if lst[i] % 2 == 0:\n",
    "        print(lst[i])\n"
   ]
  },
  {
   "cell_type": "markdown",
   "metadata": {},
   "source": [
    "## №15\n",
    "\n",
    "Выведите список файлов в указанной директории"
   ]
  },
  {
   "cell_type": "code",
   "execution_count": 15,
   "metadata": {},
   "outputs": [
    {
     "name": "stdout",
     "output_type": "stream",
     "text": [
      "2020-12-07-index.md\n",
      "index.ipynb\n"
     ]
    }
   ],
   "source": [
    "import os\n",
    "\n",
    "for i in os.listdir('./'):\n",
    "    if os.path.isfile(i):\n",
    "        print(i)"
   ]
  },
  {
   "cell_type": "markdown",
   "metadata": {},
   "source": [
    "## №16\n",
    "\n",
    "Напишите программу, которая принимает два списка и выводит все элементы первого, которых нет во втором."
   ]
  },
  {
   "cell_type": "code",
   "execution_count": 16,
   "metadata": {},
   "outputs": [
    {
     "name": "stdout",
     "output_type": "stream",
     "text": [
      "[1, 2, 10]\n",
      "{1, 2, 10}\n"
     ]
    }
   ],
   "source": [
    "a = [1,2,3,4,5,6,7,8,9,10]\n",
    "b = [3,4,5,6,7,8,9]\n",
    "\n",
    "def getElementAiftheyNotOnB(a, b):\n",
    "    resultLst = []\n",
    "    for i in range(len(a)):\n",
    "        k = 0\n",
    "        for j in range(len(b)):\n",
    "            if a[i] != b[j]:\n",
    "                k += 1\n",
    "        if k != len(b) - 1:\n",
    "            resultLst.append(a[i])\n",
    "    return resultLst\n",
    "            \n",
    "result = getElementAiftheyNotOnB(a, b)\n",
    "print(result)\n",
    "\n",
    "def getElementAiftheyNotOnB_variant2(a, b):\n",
    "    return set(a) - set(b)\n",
    "\n",
    "result = getElementAiftheyNotOnB_variant2(a, b)\n",
    "print(result)"
   ]
  },
  {
   "cell_type": "markdown",
   "metadata": {},
   "source": [
    "## №17\n",
    "\n",
    "Сложите цифры целого числа"
   ]
  },
  {
   "cell_type": "code",
   "execution_count": 17,
   "metadata": {},
   "outputs": [
    {
     "name": "stdout",
     "output_type": "stream",
     "text": [
      "15\n"
     ]
    }
   ],
   "source": [
    "number = 12345\n",
    "\n",
    "sum = 0\n",
    "for i in str(number):\n",
    "    sum += int(i)\n",
    "\n",
    "print(sum)"
   ]
  },
  {
   "cell_type": "markdown",
   "metadata": {},
   "source": [
    "## №18\n",
    "\n",
    "Посчитайте, сколько раз символ встречается в строке."
   ]
  },
  {
   "cell_type": "code",
   "execution_count": 18,
   "metadata": {},
   "outputs": [
    {
     "name": "stdout",
     "output_type": "stream",
     "text": [
      "11\n",
      "11\n"
     ]
    }
   ],
   "source": [
    "myChar = 'q'\n",
    "myStr = '123q4567q90q12345q6789q4567qqqqqkokokokokoq'\n",
    "\n",
    "def howSymbolsInString(string, ch):\n",
    "    sum = 0\n",
    "    for i in string:\n",
    "        if i == ch:\n",
    "            sum += 1\n",
    "    return sum\n",
    "\n",
    "result = howSymbolsInString(myStr, myChar)\n",
    "print(result)\n",
    "\n",
    "print(myStr.count(myChar))"
   ]
  },
  {
   "cell_type": "markdown",
   "metadata": {},
   "source": [
    "## №19\n",
    "\n",
    "Поменяйте значения переменных местами"
   ]
  },
  {
   "cell_type": "code",
   "execution_count": 19,
   "metadata": {},
   "outputs": [
    {
     "name": "stdout",
     "output_type": "stream",
     "text": [
      "a =  4  b =  888\n",
      "a =  888  b =  4\n"
     ]
    }
   ],
   "source": [
    "a = 4\n",
    "b = 888\n",
    "\n",
    "print('a = ', a, ' b = ', b)\n",
    "\n",
    "a, b = b, a\n",
    "\n",
    "print('a = ', a, ' b = ', b)"
   ]
  },
  {
   "cell_type": "markdown",
   "metadata": {},
   "source": [
    "## №20\n",
    "\n",
    "Нужно проверить, все ли числа в последовательности уникальны"
   ]
  },
  {
   "cell_type": "code",
   "execution_count": 20,
   "metadata": {},
   "outputs": [
    {
     "name": "stdout",
     "output_type": "stream",
     "text": [
      "True\n",
      "False\n"
     ]
    }
   ],
   "source": [
    "def numberAreUnique(number):\n",
    "    string = str(number)\n",
    "    return len(string) == len(set(string))\n",
    "\n",
    "result = numberAreUnique(123)\n",
    "print(result)\n",
    "\n",
    "result = numberAreUnique(1233)\n",
    "print(result)"
   ]
  },
  {
   "cell_type": "markdown",
   "metadata": {},
   "source": [
    "## №21\n",
    "\n",
    "Напишите программу, которая принимает текст и выводит два слова: наиболее часто встречающееся и самое длинное"
   ]
  },
  {
   "cell_type": "code",
   "execution_count": 21,
   "metadata": {},
   "outputs": [
    {
     "name": "stdout",
     "output_type": "stream",
     "text": [
      "('amet', 'exercitationem')\n"
     ]
    }
   ],
   "source": [
    "text = 'Lorem ipsum dolor sit amet consectetur adipisicing elit. Nam, quas voluptas! In cupiditate, quasi earum libero blanditiis dicta tempore porro qui ipsam asperiores doloremque odit ea suscipit, id nostrum facere delectus expedita nobis iste ut. Molestiae numquam inventore non voluptatum consequatur quaerat laudantium nihil quia fuga, quam magni ea incidunt placeat recusandae praesentium aperiam dolores tempora pariatur maxime commodi doloribus! Assumenda inventore maiores dolores qui eligendi deserunt? Voluptates ab optio itaque nemo at quod id aliquid ipsam minima facilis quis perferendis eveniet nisi, unde harum eaque amet possimus soluta delectus exercitationem expedita saepe voluptas. Quis amet pariatur vitae dicta culpa.'\n",
    "\n",
    "def get_OftenMeetsWord_And_VeryLengthWord(text):\n",
    "    words = text.split(' ')\n",
    "    # Самое часто встречаемое слово\n",
    "    myDict = {}\n",
    "    for i in words:\n",
    "        if myDict.get(i) == None:\n",
    "            myDict[i] = 1\n",
    "        else:\n",
    "            myDict[i] += 1\n",
    "    oftenMeetsWord = words[0]\n",
    "    frequency = myDict[oftenMeetsWord]\n",
    "    for i in myDict:\n",
    "        if frequency < myDict[i]:\n",
    "            frequency = myDict[i]\n",
    "            oftenMeetsWord = i\n",
    "    # Самое длинное слово\n",
    "    max = len(words[0])\n",
    "    veryLengthWord = words[0]\n",
    "    for i in words:\n",
    "        if max < len(i):\n",
    "            max = len(i)\n",
    "            veryLengthWord = i\n",
    "            \n",
    "    return oftenMeetsWord, veryLengthWord\n",
    "        \n",
    "result = get_OftenMeetsWord_And_VeryLengthWord(text)\n",
    "print(result)"
   ]
  },
  {
   "cell_type": "markdown",
   "metadata": {},
   "source": [
    "## №22\n",
    "\n",
    "Вернуть первое слово из строки"
   ]
  },
  {
   "cell_type": "code",
   "execution_count": 22,
   "metadata": {},
   "outputs": [
    {
     "name": "stdout",
     "output_type": "stream",
     "text": [
      "Lorem\n"
     ]
    }
   ],
   "source": [
    "string = 'Lorem ipsum dolor sit amet consectetur adipisicing elit.'\n",
    "\n",
    "def getFirstWord(string):\n",
    "    return string.split(' ')[0]\n",
    "\n",
    "result = getFirstWord(string)\n",
    "print(result)"
   ]
  },
  {
   "cell_type": "markdown",
   "metadata": {},
   "source": [
    "## №23\n",
    "\n",
    "Вернуть первые два символа каждого слова"
   ]
  },
  {
   "cell_type": "code",
   "execution_count": 23,
   "metadata": {},
   "outputs": [
    {
     "name": "stdout",
     "output_type": "stream",
     "text": [
      "Lo ip do si am co ad el\n"
     ]
    }
   ],
   "source": [
    "string = 'Lorem ipsum dolor sit amet consectetur adipisicing elit.'\n",
    "\n",
    "def getTwoSymbolsAllWords(string):\n",
    "    arr = string.split(' ')\n",
    "    for i in range(len(arr)):\n",
    "        arr[i] = arr[i][:2]\n",
    "    return ' '.join(arr)\n",
    "\n",
    "result = getTwoSymbolsAllWords(string)\n",
    "print(result)"
   ]
  },
  {
   "cell_type": "markdown",
   "metadata": {},
   "source": [
    "## №24\n",
    "\n",
    "Вернуть список доменов из списка адресов электронной почты "
   ]
  },
  {
   "cell_type": "code",
   "execution_count": 24,
   "metadata": {},
   "outputs": [
    {
     "name": "stdout",
     "output_type": "stream",
     "text": [
      "['tut.by', 'yandex.ru', 'gmail.com', 'outlook.com']\n"
     ]
    }
   ],
   "source": [
    "myList = [\n",
    "    'test@tut.by',\n",
    "    'qqq@yandex.ru',\n",
    "    'qwerty@gmail.com',\n",
    "    'adm@outlook.com'\n",
    "]\n",
    "\n",
    "def getListDomens(lst):\n",
    "    resultLst = []\n",
    "    for i in myList:\n",
    "        resultLst.append(i.split('@')[1])\n",
    "    return resultLst\n",
    "\n",
    "result = getListDomens(myList)\n",
    "print(result)"
   ]
  },
  {
   "cell_type": "markdown",
   "metadata": {},
   "source": [
    "## №25\n",
    "\n",
    "Извлечь дату из строки"
   ]
  },
  {
   "cell_type": "code",
   "execution_count": 25,
   "metadata": {},
   "outputs": [
    {
     "name": "stdout",
     "output_type": "stream",
     "text": [
      "07.12.2020\n"
     ]
    }
   ],
   "source": [
    "string = 'Lorem ipsum dolor sit amet07.12.2020consectetur adipisicing elit.'\n",
    "\n",
    "import re\n",
    "result = re.search('\\d\\d\\.\\d\\d\\.\\d\\d\\d\\d', string)\n",
    "result = result.group(0)\n",
    "print(result)"
   ]
  },
  {
   "cell_type": "markdown",
   "metadata": {},
   "source": [
    "## №26\n",
    "\n",
    "Извлечь все слова, начинающиеся на гласную"
   ]
  },
  {
   "cell_type": "code",
   "execution_count": 26,
   "metadata": {},
   "outputs": [
    {
     "name": "stdout",
     "output_type": "stream",
     "text": [
      "ipsum\n",
      "amet\n",
      "adipisicing\n",
      "elit.\n"
     ]
    }
   ],
   "source": [
    "string = 'Lorem ipsum dolor sit amet consectetur adipisicing elit.'\n",
    "\n",
    "arr = string.split(' ')\n",
    "\n",
    "vowels = 'AaEeIiOoUuYyАаЕеЁёИиОоУуЫыЭэЮюЯя'\n",
    "\n",
    "for i in arr:\n",
    "    for j in vowels:\n",
    "        if i[0] == j:\n",
    "            print(i)"
   ]
  },
  {
   "cell_type": "markdown",
   "metadata": {},
   "source": [
    "## №27\n",
    "\n",
    "Проверить телефонный номер (номер должен быть длиной 10 знаков и начинаться с 8 или 9) "
   ]
  },
  {
   "cell_type": "code",
   "execution_count": 27,
   "metadata": {},
   "outputs": [
    {
     "name": "stdout",
     "output_type": "stream",
     "text": [
      "True\n",
      "False\n",
      "True\n",
      "False\n",
      "False\n",
      "False\n"
     ]
    }
   ],
   "source": [
    "phone1 = '8123456789'\n",
    "phone2 = '812345678911111'\n",
    "phone3 = '9123456789'\n",
    "phone4 = '912345678911111'\n",
    "phone5 = '7123456789'\n",
    "phone6 = '123'\n",
    "\n",
    "import re\n",
    "def correctPhone(phone):\n",
    "    result = bool( re.search('[89]', phone[0]) )\n",
    "    if result == False:\n",
    "        return False\n",
    "    else:\n",
    "        result = bool( re.search('[\\d]{10}', phone) )\n",
    "        if result == False:\n",
    "            return False\n",
    "        else:\n",
    "            if len(phone) > 10:\n",
    "                return False\n",
    "            else:\n",
    "                return True\n",
    "    \n",
    "result = correctPhone(phone1)\n",
    "print(result)\n",
    "\n",
    "result = correctPhone(phone2)\n",
    "print(result)\n",
    "\n",
    "result = correctPhone(phone3)\n",
    "print(result)\n",
    "\n",
    "result = correctPhone(phone4)\n",
    "print(result)\n",
    "\n",
    "result = correctPhone(phone5)\n",
    "print(result)\n",
    "\n",
    "result = correctPhone(phone6)\n",
    "print(result)\n",
    "\n"
   ]
  },
  {
   "cell_type": "markdown",
   "metadata": {},
   "source": [
    "## №28\n",
    "\n",
    "Разбить строку по нескольким разделителям"
   ]
  },
  {
   "cell_type": "code",
   "execution_count": 28,
   "metadata": {},
   "outputs": [
    {
     "name": "stdout",
     "output_type": "stream",
     "text": [
      "['qqq', ' wewe', ' rgrg', ' gtgt', ' gtrgt']\n"
     ]
    }
   ],
   "source": [
    "string = \"qqq, wewe. rgrg! gtgt/ gtrgt\"\n",
    "\n",
    "import re\n",
    "\n",
    "result = re.split('[,.!/]', string)\n",
    "print(result)"
   ]
  }
 ],
 "metadata": {
  "kernelspec": {
   "display_name": "Python 3",
   "language": "python",
   "name": "python3"
  },
  "language_info": {
   "codemirror_mode": {
    "name": "ipython",
    "version": 3
   },
   "file_extension": ".py",
   "mimetype": "text/x-python",
   "name": "python",
   "nbconvert_exporter": "python",
   "pygments_lexer": "ipython3",
   "version": "3.7.3"
  }
 },
 "nbformat": 4,
 "nbformat_minor": 2
}
