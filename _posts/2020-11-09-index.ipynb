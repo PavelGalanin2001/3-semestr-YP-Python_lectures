{
 "cells": [
  {
   "cell_type": "markdown",
   "metadata": {},
   "source": [
    "## Целые числа (int)\n",
    "\n",
    "Они поддерживают набор самых обычных математических операций:\n",
    "\n",
    "|                |                                           |\n",
    "|:---------------|:------------------------------------------|\n",
    "|`x + y`         |Сложение                                   |\n",
    "|`x - y`         |Вычитание                                  |\n",
    "|`x * y`         |Умножение                                  |\n",
    "|`x / y`         |Деление                                    |\n",
    "|`x // y`        |Получение целой части от деления           |\n",
    "|`x % y`         |Остаток от деления                         |\n",
    "|`- x`           |Смена знака числа                          |\n",
    "|`abs(x)`        |Модуль числа                               |\n",
    "|`divmod(x, y)`  |Пара `(x // y, x % у)`                     |\n",
    "|`x ** y`        |Возведение в степень                       |\n",
    "|`pow(x, y[, z])`|х<sup>у</sup> по модулю (если модуль задан)|\n",
    "\n",
    "```python\n",
    "pow(x, y[, z])\n",
    "```\n",
    "\n",
    "`x`: Число, которое требуется возвести в степень.\n",
    "\n",
    "`у`: Число, являющееся степенью, в которую нужно возвести первый аргумент. Если число отрицательное, аргумент `z` не принимается.\n",
    "\n",
    "`z`: Число, на которое требуется произвести деление по модулю. Если число указано, ожидается, что `х` и `у` положительны и имеют тип `int`."
   ]
  },
  {
   "cell_type": "code",
   "execution_count": 3,
   "metadata": {},
   "outputs": [
    {
     "data": {
      "text/plain": [
       "8"
      ]
     },
     "execution_count": 3,
     "metadata": {},
     "output_type": "execute_result"
    }
   ],
   "source": [
    "pow(2, 3)"
   ]
  },
  {
   "cell_type": "code",
   "execution_count": 4,
   "metadata": {},
   "outputs": [
    {
     "data": {
      "text/plain": [
       "100"
      ]
     },
     "execution_count": 4,
     "metadata": {},
     "output_type": "execute_result"
    }
   ],
   "source": [
    "pow(10, 2)"
   ]
  },
  {
   "cell_type": "code",
   "execution_count": 5,
   "metadata": {},
   "outputs": [
    {
     "data": {
      "text/plain": [
       "0.01"
      ]
     },
     "execution_count": 5,
     "metadata": {},
     "output_type": "execute_result"
    }
   ],
   "source": [
    "pow(10, -2)"
   ]
  },
  {
   "cell_type": "code",
   "execution_count": 6,
   "metadata": {},
   "outputs": [
    {
     "data": {
      "text/plain": [
       "8"
      ]
     },
     "execution_count": 6,
     "metadata": {},
     "output_type": "execute_result"
    }
   ],
   "source": [
    "pow(2, 3, 10)"
   ]
  },
  {
   "cell_type": "markdown",
   "metadata": {},
   "source": [
    "Python, в отличие от многих других языков, поддерживает длинную арифметику"
   ]
  },
  {
   "cell_type": "markdown",
   "metadata": {},
   "source": [
    "## Битовые операции\n",
    "\n",
    "Над целыми числами также можно производить битовые операции\n",
    "\n",
    "|        |                         |\n",
    "|:-------|:------------------------|\n",
    "|`x \\| y` |Побитовое или            |\n",
    "|`x ^ y` |Побитовое исключающее или|\n",
    "|`x & y` |Побитовое и              |\n",
    "|`x << n`|Битовый сдвиг влево      |\n",
    "|`x >> y`|Битовый сдвиг вправо     |\n",
    "|`~ x`   |Инверсия битов           |"
   ]
  },
  {
   "cell_type": "markdown",
   "metadata": {},
   "source": [
    "## Дополнительные методы\n",
    "\n",
    "`int.bit_length()` - количество бит, необходимых для представления числа в двоичном виде, без учёта знака и лидирующих нулей."
   ]
  },
  {
   "cell_type": "code",
   "execution_count": 7,
   "metadata": {},
   "outputs": [
    {
     "data": {
      "text/plain": [
       "'-0b100101'"
      ]
     },
     "execution_count": 7,
     "metadata": {},
     "output_type": "execute_result"
    }
   ],
   "source": [
    "n = -37\n",
    "bin(n)"
   ]
  },
  {
   "cell_type": "code",
   "execution_count": 8,
   "metadata": {},
   "outputs": [
    {
     "data": {
      "text/plain": [
       "6"
      ]
     },
     "execution_count": 8,
     "metadata": {},
     "output_type": "execute_result"
    }
   ],
   "source": [
    "n.bit_length()"
   ]
  },
  {
   "cell_type": "markdown",
   "metadata": {},
   "source": [
    "## Системы счисления\n",
    "\n",
    "```\n",
    "int( [object], [основание системы счисления] )\n",
    "```\n",
    "\n",
    "- преобразование к целому числу в десятичной системе счисления. По умолчанию система счисления десятичная, но можно задать любое основание от 2 до 36 включительно."
   ]
  },
  {
   "cell_type": "markdown",
   "metadata": {},
   "source": [
    "|        |                                                      |\n",
    "|:-------|:-----------------------------------------------------|\n",
    "|`bin(x)`|преобразование целого числа в двоичную строку         |\n",
    "|`hex(x)`|преобразование целого числа в шестнадцатеричную строку|\n",
    "|`oct(x)`|преобразование целого числа в восьмеричную строку     |\n",
    "\n",
    "Примеры:\n",
    ">>> = int('19') # Переводим строку в\n",
    "число\n",
    ">>> = int('19.5') \n"
   ]
  },
  {
   "cell_type": "code",
   "execution_count": 14,
   "metadata": {},
   "outputs": [],
   "source": [
    "a = int('19') # Переводим строку в число"
   ]
  },
  {
   "cell_type": "code",
   "execution_count": 15,
   "metadata": {},
   "outputs": [
    {
     "ename": "ValueError",
     "evalue": "invalid literal for int() with base 10: '19.5'",
     "output_type": "error",
     "traceback": [
      "\u001b[0;31m---------------------------------------------------------------------------\u001b[0m",
      "\u001b[0;31mValueError\u001b[0m                                Traceback (most recent call last)",
      "\u001b[0;32m<ipython-input-15-005a877b89e0>\u001b[0m in \u001b[0;36m<module>\u001b[0;34m\u001b[0m\n\u001b[0;32m----> 1\u001b[0;31m \u001b[0mb\u001b[0m \u001b[0;34m=\u001b[0m \u001b[0mint\u001b[0m\u001b[0;34m(\u001b[0m\u001b[0;34m'19.5'\u001b[0m\u001b[0;34m)\u001b[0m \u001b[0;31m# Строка не является целым числом\u001b[0m\u001b[0;34m\u001b[0m\u001b[0;34m\u001b[0m\u001b[0m\n\u001b[0m",
      "\u001b[0;31mValueError\u001b[0m: invalid literal for int() with base 10: '19.5'"
     ]
    }
   ],
   "source": [
    "b = int('19.5') # Строка не является целым числом"
   ]
  },
  {
   "cell_type": "markdown",
   "metadata": {},
   "source": [
    "```\n",
    "Traceback (most recent call last):\n",
    " File \"\", line 1, in\n",
    "ValueError: invalid literal for int()\n",
    " with base 10: '19.5'\n",
    "```"
   ]
  },
  {
   "cell_type": "code",
   "execution_count": 16,
   "metadata": {},
   "outputs": [],
   "source": [
    "c = int(19.5) # Применённая к числу с плавающей точкой, отсекает дробную часть"
   ]
  },
  {
   "cell_type": "code",
   "execution_count": 17,
   "metadata": {},
   "outputs": [
    {
     "name": "stdout",
     "output_type": "stream",
     "text": [
      "19 19\n"
     ]
    }
   ],
   "source": [
    "print(a, c)"
   ]
  },
  {
   "cell_type": "code",
   "execution_count": 18,
   "metadata": {},
   "outputs": [
    {
     "data": {
      "text/plain": [
       "'0b10011'"
      ]
     },
     "execution_count": 18,
     "metadata": {},
     "output_type": "execute_result"
    }
   ],
   "source": [
    "bin(19)"
   ]
  },
  {
   "cell_type": "code",
   "execution_count": 19,
   "metadata": {},
   "outputs": [
    {
     "data": {
      "text/plain": [
       "'0o23'"
      ]
     },
     "execution_count": 19,
     "metadata": {},
     "output_type": "execute_result"
    }
   ],
   "source": [
    "oct(19)"
   ]
  },
  {
   "cell_type": "code",
   "execution_count": 20,
   "metadata": {},
   "outputs": [
    {
     "data": {
      "text/plain": [
       "'0x13'"
      ]
     },
     "execution_count": 20,
     "metadata": {},
     "output_type": "execute_result"
    }
   ],
   "source": [
    "hex(19)"
   ]
  },
  {
   "cell_type": "code",
   "execution_count": 22,
   "metadata": {},
   "outputs": [
    {
     "data": {
      "text/plain": [
       "19"
      ]
     },
     "execution_count": 22,
     "metadata": {},
     "output_type": "execute_result"
    }
   ],
   "source": [
    "0b10011 # Так тоже можно записывать числовые константы"
   ]
  },
  {
   "cell_type": "code",
   "execution_count": 23,
   "metadata": {},
   "outputs": [
    {
     "data": {
      "text/plain": [
       "19"
      ]
     },
     "execution_count": 23,
     "metadata": {},
     "output_type": "execute_result"
    }
   ],
   "source": [
    "int('10011', 2)"
   ]
  },
  {
   "cell_type": "code",
   "execution_count": 24,
   "metadata": {},
   "outputs": [
    {
     "data": {
      "text/plain": [
       "19"
      ]
     },
     "execution_count": 24,
     "metadata": {},
     "output_type": "execute_result"
    }
   ],
   "source": [
    "int('0b10011', 2)"
   ]
  },
  {
   "cell_type": "markdown",
   "metadata": {},
   "source": [
    "## Вещественные числа (float)\n",
    "\n",
    "Вещественные числа поддерживают те же операции, что и целые. Однако (из-за представления чисел в компьютере) вещественные числа неточны, и это может привести к ошибкам:"
   ]
  },
  {
   "cell_type": "code",
   "execution_count": 32,
   "metadata": {},
   "outputs": [
    {
     "data": {
      "text/plain": [
       "0.9999999999999999"
      ]
     },
     "execution_count": 32,
     "metadata": {},
     "output_type": "execute_result"
    }
   ],
   "source": [
    "0.1 + 0.1 + 0.1 + 0.1 + 0.1 + 0.1 + 0.1 + 0.1 + 0.1 + 0.1"
   ]
  },
  {
   "cell_type": "markdown",
   "metadata": {},
   "source": [
    "Для высокой точности используют другие объекты (например Decimal и Fraction)).\n",
    "\n",
    "Также вещественные числа не поддерживают длинную арифметику:"
   ]
  },
  {
   "cell_type": "code",
   "execution_count": 27,
   "metadata": {},
   "outputs": [
    {
     "name": "stdout",
     "output_type": "stream",
     "text": [
      "1322070819480806636890455259752144365965422032752148167664920368226828597346704899540778313850608061963909777696872582355950954582100618911865342725257953674027620225198320803878014774228964841274390400117588618041128947815623094438061566173054086674490506178125480344405547054397038895817465368254916136220830268563778582290228416398307887896918556404084898937609373242171846359938695516765018940588109060426089671438864102814350385648747165832010614366132173102768902855220001\n"
     ]
    }
   ],
   "source": [
    "a = 3 ** 1000\n",
    "print(a)"
   ]
  },
  {
   "cell_type": "code",
   "execution_count": 31,
   "metadata": {},
   "outputs": [
    {
     "ename": "OverflowError",
     "evalue": "int too large to convert to float",
     "output_type": "error",
     "traceback": [
      "\u001b[0;31m---------------------------------------------------------------------------\u001b[0m",
      "\u001b[0;31mOverflowError\u001b[0m                             Traceback (most recent call last)",
      "\u001b[0;32m<ipython-input-31-205f1f1d9d85>\u001b[0m in \u001b[0;36m<module>\u001b[0;34m\u001b[0m\n\u001b[0;32m----> 1\u001b[0;31m \u001b[0ma\u001b[0m \u001b[0;34m+\u001b[0m \u001b[0;36m0.1\u001b[0m\u001b[0;34m\u001b[0m\u001b[0;34m\u001b[0m\u001b[0m\n\u001b[0m",
      "\u001b[0;31mOverflowError\u001b[0m: int too large to convert to float"
     ]
    }
   ],
   "source": [
    "a + 0.1"
   ]
  },
  {
   "cell_type": "markdown",
   "metadata": {},
   "source": [
    "```\n",
    "Traceback (most recent call last):\n",
    "  File \"\", line 1, in\n",
    "OverflowError: int too large to convert to float\n",
    "```"
   ]
  },
  {
   "cell_type": "markdown",
   "metadata": {},
   "source": [
    "Простенькие примеры работы с числами:"
   ]
  },
  {
   "cell_type": "code",
   "execution_count": 34,
   "metadata": {},
   "outputs": [
    {
     "data": {
      "text/plain": [
       "162.9"
      ]
     },
     "execution_count": 34,
     "metadata": {},
     "output_type": "execute_result"
    }
   ],
   "source": [
    "c = 150\n",
    "d = 12.9\n",
    "c + d"
   ]
  },
  {
   "cell_type": "code",
   "execution_count": 36,
   "metadata": {},
   "outputs": [
    {
     "name": "stdout",
     "output_type": "stream",
     "text": [
      "137.1\n"
     ]
    }
   ],
   "source": [
    "p = abs(d - c) # модуль числа\n",
    "print(p)"
   ]
  },
  {
   "cell_type": "code",
   "execution_count": 37,
   "metadata": {},
   "outputs": [
    {
     "data": {
      "text/plain": [
       "137"
      ]
     },
     "execution_count": 37,
     "metadata": {},
     "output_type": "execute_result"
    }
   ],
   "source": [
    "round(p) # округление"
   ]
  },
  {
   "cell_type": "markdown",
   "metadata": {},
   "source": [
    "### Дополнительные методы\n",
    "\n",
    "|                              |                                                           |\n",
    "|:-----------------------------|:----------------------------------------------------------|\n",
    "|`float.as_integer_ratio()`    |пара целых чисел, чьё отношение равно этому числу          |\n",
    "|`float.is_integer()`          |является ли значение целым числом                          |\n",
    "|`float.hex()`                 |переводит float в hex (шестнадцатиричную систему счисления)|\n",
    "|`classmethod float.fromhex(s)`|float из шеснадцатиричной строки                           |"
   ]
  },
  {
   "cell_type": "code",
   "execution_count": 38,
   "metadata": {},
   "outputs": [
    {
     "data": {
      "text/plain": [
       "'0x1.5000000000000p+3'"
      ]
     },
     "execution_count": 38,
     "metadata": {},
     "output_type": "execute_result"
    }
   ],
   "source": [
    "(10.5).hex()"
   ]
  },
  {
   "cell_type": "code",
   "execution_count": 57,
   "metadata": {},
   "outputs": [
    {
     "data": {
      "text/plain": [
       "10.5"
      ]
     },
     "execution_count": 57,
     "metadata": {},
     "output_type": "execute_result"
    }
   ],
   "source": [
    "float.fromhex('0x1.5000000000000p+3')"
   ]
  },
  {
   "cell_type": "markdown",
   "metadata": {},
   "source": [
    "## Модули Decimal и Fraction\n",
    "\n",
    "Из-за ограничений в сохранении точного значения чисел, даже простейшие математические операции могут выдавать ошибочный результат. Эти ограничения легко преодолимы - достаточно использовать десятичный модуль `Decimal` в `Python`. В выполнении расчетов на основе дробей поможет модуль фракций - `Fraction`.\n",
    "\n",
    "## Модуль Decimal\n",
    "\n",
    "Синтаксис:\n",
    "\n",
    "С помощью `Decimal` вы можете создавать десятичные числа. `Decimal` обеспечивает поддержку правильного округления десятичной арифметики с плавающей точкой."
   ]
  },
  {
   "cell_type": "code",
   "execution_count": 59,
   "metadata": {},
   "outputs": [
    {
     "name": "stdout",
     "output_type": "stream",
     "text": [
      "0.8\n"
     ]
    }
   ],
   "source": [
    "from decimal import Decimal\n",
    "number1 = Decimal('0.1')\n",
    "number2 = Decimal('0.7')\n",
    "print(number1 + number2)"
   ]
  },
  {
   "cell_type": "markdown",
   "metadata": {},
   "source": [
    "## Точность\n",
    "\n",
    "Контекстом в `Decimal` можно управлять, устанавливая свои значения. Например, для того, чтобы управлять точностью `Decimal`, необходимо изменить параметр контекста `prec`"
   ]
  },
  {
   "cell_type": "code",
   "execution_count": 63,
   "metadata": {},
   "outputs": [
    {
     "name": "stdout",
     "output_type": "stream",
     "text": [
      "1.1\n"
     ]
    }
   ],
   "source": [
    "from decimal import Decimal, getcontext\n",
    "getcontext().prec = 2\n",
    "print(Decimal('4.34') / 4)"
   ]
  },
  {
   "cell_type": "code",
   "execution_count": 66,
   "metadata": {},
   "outputs": [
    {
     "name": "stdout",
     "output_type": "stream",
     "text": [
      "1.08\n"
     ]
    }
   ],
   "source": [
    "getcontext().prec = 3\n",
    "print(Decimal('4.34') / 4)"
   ]
  },
  {
   "cell_type": "markdown",
   "metadata": {},
   "source": [
    "## Округление\n",
    "\n",
    "Округление осуществляется с помощью метода `quantize()`. В качестве первого аргумента - объект `Decimal`, указывающий на формат округления:"
   ]
  },
  {
   "cell_type": "code",
   "execution_count": 67,
   "metadata": {},
   "outputs": [
    {
     "name": "stdout",
     "output_type": "stream",
     "text": [
      "2.123\n"
     ]
    }
   ],
   "source": [
    "from decimal import Decimal, getcontext\n",
    "getcontext().prec = 4 # установим точность округление\n",
    "number = Decimal('2.1234123')\n",
    "print(number.quantize(Decimal('1.000'))) # округление до 3 чисел в дробной части"
   ]
  },
  {
   "cell_type": "code",
   "execution_count": 68,
   "metadata": {},
   "outputs": [
    {
     "name": "stdout",
     "output_type": "stream",
     "text": [
      "2.12\n"
     ]
    }
   ],
   "source": [
    "print(number.quantize(Decimal('1.00'))) # округление до 2 чисел в дробной части"
   ]
  },
  {
   "cell_type": "code",
   "execution_count": 69,
   "metadata": {},
   "outputs": [
    {
     "name": "stdout",
     "output_type": "stream",
     "text": [
      "2.1\n"
     ]
    }
   ],
   "source": [
    "print(number.quantize(Decimal('1.0'))) # округление до 1 чисела в дробной части"
   ]
  },
  {
   "cell_type": "markdown",
   "metadata": {},
   "source": [
    "## Стратегия округления:\n",
    "\n",
    "|               |                                                 |\n",
    "|:--------------|:------------------------------------------------|\n",
    "|`ROUND_CEILING`  |округление в направлении бесконечности (Infinity)|\n",
    "|`ROUND_FLOOR`    |округляет в направлении минус бесконечности (- Infinity)|\n",
    "|`ROUND_DOWN`     |округление в направлении нуля|\n",
    "|`ROUND_HALF_EVEN`|округление до ближайшего четного числа. Число 4.9 округлится не до 5, а до 4 (потому что 5 - не четное)|\n",
    "|`ROUND_HALF_DOWN`|округление до ближайшего нуля|\n",
    "|`ROUND_UP`       |округление от нуля|\n",
    "|`ROUND_05UP`     |округление от нуля (если последняя цифра после округления до нуля была бы 0 или 5, в противном случае к нулю)|"
   ]
  },
  {
   "cell_type": "code",
   "execution_count": 70,
   "metadata": {},
   "outputs": [
    {
     "name": "stdout",
     "output_type": "stream",
     "text": [
      "0.03\n"
     ]
    }
   ],
   "source": [
    "from decimal import Decimal, ROUND_CEILING\n",
    "number = Decimal(\"0.029\")\n",
    "print(number.quantize(Decimal(\"1.00\"), ROUND_CEILING))"
   ]
  },
  {
   "cell_type": "markdown",
   "metadata": {},
   "source": [
    "Методы для работы с десятичными числами в `Decimal`:\n",
    "\n",
    "|             |   |\n",
    "|:------------|:--|\n",
    "|`sqrt()`     |вычисляет квадратный корень из десятичного числа|\n",
    "|`exp()`      |возвращает е/х (показатель степени) десятичного числа|\n",
    "|`In()`       |используется для вычисления натурального логарифма десятичного числа|\n",
    "|`log10()`    |используется для вычисления log (основание 10) десятичного числа|\n",
    "|`as_tuple()` |возвращает десятичное чисодержащее 3аргумента, знак (0 для +, 1 для -), цифры и значение экспоненты|\n",
    "|`fma(a, b)`  |\"fma\" означает сложить, умножить и добавить. Данный метод вычисляет (num * a) + b из чисел в аргументе. В этой функции округление пит * а не выполняется|\n",
    "|`copy_sign()`|печатает первый аргумент, копируя знак из второго аргумента|"
   ]
  },
  {
   "cell_type": "markdown",
   "metadata": {},
   "source": [
    "## Модуль Fraction\n",
    "\n",
    "Этот модуль пригодится в тех случаях, когда необходимо выполнить вычисления с дробями, или когда результат должен быть выражен в формате дроби."
   ]
  },
  {
   "cell_type": "code",
   "execution_count": 71,
   "metadata": {},
   "outputs": [
    {
     "name": "stdout",
     "output_type": "stream",
     "text": [
      "2345390243441541/70368744177664\n"
     ]
    }
   ],
   "source": [
    "from fractions import Fraction\n",
    "print(Fraction(33.33))"
   ]
  },
  {
   "cell_type": "code",
   "execution_count": 72,
   "metadata": {},
   "outputs": [
    {
     "name": "stdout",
     "output_type": "stream",
     "text": [
      "3333/100\n"
     ]
    }
   ],
   "source": [
    "print(Fraction('33.33'))"
   ]
  },
  {
   "cell_type": "markdown",
   "metadata": {},
   "source": [
    "Модуль `Fraction` особено полезен, потому что он автоматически уменьшает дробь. Выглядит это вон так:"
   ]
  },
  {
   "cell_type": "code",
   "execution_count": 73,
   "metadata": {},
   "outputs": [
    {
     "data": {
      "text/plain": [
       "Fraction(9, 16)"
      ]
     },
     "execution_count": 73,
     "metadata": {},
     "output_type": "execute_result"
    }
   ],
   "source": [
    "Fraction(153, 272)"
   ]
  },
  {
   "cell_type": "markdown",
   "metadata": {},
   "source": [
    "Можно выполнить бинарные (двоичные) операции над дробью также просто, как вы используете `int`или `float`. Просто добавьте две фаркции:"
   ]
  },
  {
   "cell_type": "code",
   "execution_count": 74,
   "metadata": {},
   "outputs": [
    {
     "data": {
      "text/plain": [
       "Fraction(5, 4)"
      ]
     },
     "execution_count": 74,
     "metadata": {},
     "output_type": "execute_result"
    }
   ],
   "source": [
    "Fraction(1, 2) + Fraction(3, 4)"
   ]
  },
  {
   "cell_type": "markdown",
   "metadata": {},
   "source": [
    "Теперь давайте попробуем возвести дробь в степень:"
   ]
  },
  {
   "cell_type": "code",
   "execution_count": 76,
   "metadata": {},
   "outputs": [
    {
     "data": {
      "text/plain": [
       "0.3535533905932738"
      ]
     },
     "execution_count": 76,
     "metadata": {},
     "output_type": "execute_result"
    }
   ],
   "source": [
    "Fraction(1, 8) ** Fraction(1, 2)"
   ]
  },
  {
   "cell_type": "markdown",
   "metadata": {},
   "source": [
    "## Модуль math\n",
    "\n",
    "Представляет более сложные математические функции"
   ]
  },
  {
   "cell_type": "code",
   "execution_count": 78,
   "metadata": {},
   "outputs": [
    {
     "data": {
      "text/plain": [
       "3.141592653589793"
      ]
     },
     "execution_count": 78,
     "metadata": {},
     "output_type": "execute_result"
    }
   ],
   "source": [
    "import math\n",
    "math.pi"
   ]
  },
  {
   "cell_type": "code",
   "execution_count": 80,
   "metadata": {},
   "outputs": [
    {
     "data": {
      "text/plain": [
       "9.219544457292887"
      ]
     },
     "execution_count": 80,
     "metadata": {},
     "output_type": "execute_result"
    }
   ],
   "source": [
    "math.sqrt(85)"
   ]
  },
  {
   "cell_type": "markdown",
   "metadata": {},
   "source": [
    "## Модуль random\n",
    "\n",
    "Реализует генератор случайных чисел и функции случайного выбора."
   ]
  },
  {
   "cell_type": "code",
   "execution_count": 81,
   "metadata": {},
   "outputs": [
    {
     "data": {
      "text/plain": [
       "0.5350142918445383"
      ]
     },
     "execution_count": 81,
     "metadata": {},
     "output_type": "execute_result"
    }
   ],
   "source": [
    "import random\n",
    "random.random()"
   ]
  },
  {
   "cell_type": "markdown",
   "metadata": {},
   "source": [
    "## Комплексные числа (complex)\n",
    "\n",
    "В `Python` встроены также и комплексные числа:"
   ]
  },
  {
   "cell_type": "code",
   "execution_count": 82,
   "metadata": {},
   "outputs": [
    {
     "name": "stdout",
     "output_type": "stream",
     "text": [
      "(1+2j)\n"
     ]
    }
   ],
   "source": [
    "x = complex(1, 2)\n",
    "print(x)"
   ]
  },
  {
   "cell_type": "code",
   "execution_count": 103,
   "metadata": {},
   "outputs": [
    {
     "name": "stdout",
     "output_type": "stream",
     "text": [
      "(3+4j)\n"
     ]
    }
   ],
   "source": [
    "y = complex(3,4)\n",
    "print(y)"
   ]
  },
  {
   "cell_type": "code",
   "execution_count": 104,
   "metadata": {},
   "outputs": [
    {
     "name": "stdout",
     "output_type": "stream",
     "text": [
      "(4+6j)\n"
     ]
    }
   ],
   "source": [
    "z = x + y\n",
    "print(z)"
   ]
  },
  {
   "cell_type": "code",
   "execution_count": 105,
   "metadata": {},
   "outputs": [
    {
     "name": "stdout",
     "output_type": "stream",
     "text": [
      "(-5+10j)\n"
     ]
    }
   ],
   "source": [
    "z = x * y\n",
    "print(z)"
   ]
  },
  {
   "cell_type": "code",
   "execution_count": 106,
   "metadata": {},
   "outputs": [
    {
     "name": "stdout",
     "output_type": "stream",
     "text": [
      "(0.44+0.08j)\n"
     ]
    }
   ],
   "source": [
    "z = x / y\n",
    "print(z)"
   ]
  },
  {
   "cell_type": "code",
   "execution_count": 107,
   "metadata": {},
   "outputs": [
    {
     "name": "stdout",
     "output_type": "stream",
     "text": [
      "(1-2j)\n"
     ]
    }
   ],
   "source": [
    "print(x.conjugate()) # сопряжённое число"
   ]
  },
  {
   "cell_type": "code",
   "execution_count": 109,
   "metadata": {},
   "outputs": [
    {
     "name": "stdout",
     "output_type": "stream",
     "text": [
      "2.0\n"
     ]
    }
   ],
   "source": [
    "print(x.imag) # Мнимая часть"
   ]
  },
  {
   "cell_type": "code",
   "execution_count": 110,
   "metadata": {},
   "outputs": [
    {
     "name": "stdout",
     "output_type": "stream",
     "text": [
      "1.0\n"
     ]
    }
   ],
   "source": [
    "print(x.real) # Действительная часть"
   ]
  },
  {
   "cell_type": "code",
   "execution_count": 111,
   "metadata": {},
   "outputs": [
    {
     "ename": "TypeError",
     "evalue": "'>' not supported between instances of 'complex' and 'complex'",
     "output_type": "error",
     "traceback": [
      "\u001b[0;31m---------------------------------------------------------------------------\u001b[0m",
      "\u001b[0;31mTypeError\u001b[0m                                 Traceback (most recent call last)",
      "\u001b[0;32m<ipython-input-111-0937005c35b0>\u001b[0m in \u001b[0;36m<module>\u001b[0;34m\u001b[0m\n\u001b[0;32m----> 1\u001b[0;31m \u001b[0mprint\u001b[0m\u001b[0;34m(\u001b[0m\u001b[0mx\u001b[0m \u001b[0;34m>\u001b[0m \u001b[0my\u001b[0m\u001b[0;34m)\u001b[0m \u001b[0;31m# комплексные числа нельзя сравнивать\u001b[0m\u001b[0;34m\u001b[0m\u001b[0;34m\u001b[0m\u001b[0m\n\u001b[0m",
      "\u001b[0;31mTypeError\u001b[0m: '>' not supported between instances of 'complex' and 'complex'"
     ]
    }
   ],
   "source": [
    "print(x > y) # комплексные числа нельзя сравнивать"
   ]
  },
  {
   "cell_type": "markdown",
   "metadata": {},
   "source": [
    "```\n",
    "Traceback (most recent call last):\n",
    "  File \"\", line 1, in\n",
    "TypeError: unorderable types: complex() > complex()\n",
    "```"
   ]
  },
  {
   "cell_type": "code",
   "execution_count": 112,
   "metadata": {},
   "outputs": [
    {
     "name": "stdout",
     "output_type": "stream",
     "text": [
      "False\n"
     ]
    }
   ],
   "source": [
    "print(x == y) # но можно проверить на равенство"
   ]
  },
  {
   "cell_type": "code",
   "execution_count": 113,
   "metadata": {},
   "outputs": [
    {
     "data": {
      "text/plain": [
       "5.0"
      ]
     },
     "execution_count": 113,
     "metadata": {},
     "output_type": "execute_result"
    }
   ],
   "source": [
    "abs(3 + 4j) # модуль комплексного числа"
   ]
  },
  {
   "cell_type": "code",
   "execution_count": 114,
   "metadata": {},
   "outputs": [
    {
     "data": {
      "text/plain": [
       "(-7+24j)"
      ]
     },
     "execution_count": 114,
     "metadata": {},
     "output_type": "execute_result"
    }
   ],
   "source": [
    "pow(3 + 4j, 2)"
   ]
  },
  {
   "cell_type": "markdown",
   "metadata": {},
   "source": [
    "## Тип bool\n",
    "\n",
    "Используется для обозначения логических величин. Имеет два значения true или false."
   ]
  },
  {
   "cell_type": "code",
   "execution_count": 100,
   "metadata": {},
   "outputs": [
    {
     "name": "stdout",
     "output_type": "stream",
     "text": [
      "False False : False False True\n",
      "False True : False True True\n",
      "True False : False True False\n",
      "True True : True True False\n"
     ]
    }
   ],
   "source": [
    "for i in (False, True):\n",
    "    for j in (False, True):\n",
    "        print(i,j, \":\", i and j, i or j, not i)"
   ]
  },
  {
   "cell_type": "markdown",
   "metadata": {},
   "source": [
    "## Строки\n",
    " \n",
    "Python строки бывают двух типов\n",
    "- обычные сроки\n",
    "- unicode строки\n",
    "     \n",
    "Фактически строка это последовательность символов в определённой кодировке.\n",
    " \n",
    "Строки константы можно задать в программе с помощью строковых литералов.\n",
    " \n",
    "Для литералов можно использовать на равне\n",
    "- апострафы\n",
    "- двойные кавычки\n",
    "     \n",
    "В строке могут присутствовать управляющие последовательности, например, перевод на новую строчку `\\n`.\n",
    " \n",
    "У строк существует ещё одна разновидность:\n",
    "- необработанные литералы - это случай, когда следующие за обратной косой чертой символы не интерпретируются как спец. символы, а вставляются в строку как есть."
   ]
  },
  {
   "cell_type": "code",
   "execution_count": 99,
   "metadata": {},
   "outputs": [
    {
     "name": "stdout",
     "output_type": "stream",
     "text": [
      "строка1\n",
      "строка2\n",
      "\n",
      "m|k = \u0001\n"
     ]
    }
   ],
   "source": [
    "s1 = \"строка1\"\n",
    "s2 = \"строка2\\n\"\n",
    "my = \"m|k = \\1\"\n",
    "print(s1)\n",
    "print(s2)\n",
    "print(my)"
   ]
  },
  {
   "cell_type": "markdown",
   "metadata": {},
   "source": [
    "## Операции над строками\n",
    "- конкатенация или объединение. Для выполнения данной операции применяется операция `+` "
   ]
  },
  {
   "cell_type": "code",
   "execution_count": 98,
   "metadata": {},
   "outputs": [
    {
     "data": {
      "text/plain": [
       "'abcbcd'"
      ]
     },
     "execution_count": 98,
     "metadata": {},
     "output_type": "execute_result"
    }
   ],
   "source": [
    "\"abc\" + \"bcd\""
   ]
  },
  {
   "cell_type": "code",
   "execution_count": 97,
   "metadata": {},
   "outputs": [
    {
     "data": {
      "text/plain": [
       "'worldhello'"
      ]
     },
     "execution_count": 97,
     "metadata": {},
     "output_type": "execute_result"
    }
   ],
   "source": [
    "s1 + s2"
   ]
  },
  {
   "cell_type": "markdown",
   "metadata": {},
   "source": [
    "- повтор. Для выполнения операции повтора применяется символ `*`"
   ]
  },
  {
   "cell_type": "code",
   "execution_count": 95,
   "metadata": {},
   "outputs": [
    {
     "data": {
      "text/plain": [
       "'AAAAAAAAAA'"
      ]
     },
     "execution_count": 95,
     "metadata": {},
     "output_type": "execute_result"
    }
   ],
   "source": [
    "\"A\"*10"
   ]
  },
  {
   "cell_type": "markdown",
   "metadata": {},
   "source": [
    "- Для выполнения операции форматирования применяется знак `%`"
   ]
  },
  {
   "cell_type": "code",
   "execution_count": 93,
   "metadata": {},
   "outputs": [
    {
     "data": {
      "text/plain": [
       "'aBc 12'"
      ]
     },
     "execution_count": 93,
     "metadata": {},
     "output_type": "execute_result"
    }
   ],
   "source": [
    "\"%s %i\" % (\"aBc\", 12)"
   ]
  },
  {
   "cell_type": "markdown",
   "metadata": {},
   "source": [
    "В случае, если нам необходимо сложить строку и число. Число предварительно приводится к строке с использованием `str()`"
   ]
  },
  {
   "cell_type": "code",
   "execution_count": 92,
   "metadata": {},
   "outputs": [
    {
     "name": "stdout",
     "output_type": "stream",
     "text": [
      "Name: TomAge: 23\n"
     ]
    }
   ],
   "source": [
    "name = \"Tom\"\n",
    "age = 23\n",
    "info = \"Name: \" + name + \"Age: \" + str(age)\n",
    "print(info)"
   ]
  },
  {
   "cell_type": "markdown",
   "metadata": {},
   "source": [
    "- Сравнение строк. При сравнении строк применяется во внимание сами символы и их регистры. Цифровой символ условно меньше, чем любой алфавитный символ. Алфавитный символ верхнего регистра меньше, чем алфафитные символы нижнего регистра."
   ]
  },
  {
   "cell_type": "code",
   "execution_count": 91,
   "metadata": {},
   "outputs": [
    {
     "name": "stdout",
     "output_type": "stream",
     "text": [
      "True\n",
      "False\n"
     ]
    }
   ],
   "source": [
    "s1 = \"world\"\n",
    "s2 = \"hello\"\n",
    "s3 = \"hell1\"\n",
    "print(s1 > s2)\n",
    "print(s2 == s3)"
   ]
  },
  {
   "cell_type": "markdown",
   "metadata": {},
   "source": [
    "## Тип картедж\n",
    "\n",
    "Для представления константной последовательности разнородных объектов используется тип картедж. Литерал картеджа обычно записывается в круглых скобках."
   ]
  },
  {
   "cell_type": "code",
   "execution_count": 90,
   "metadata": {},
   "outputs": [
    {
     "name": "stdout",
     "output_type": "stream",
     "text": [
      "one\n",
      "two\n",
      "three\n"
     ]
    }
   ],
   "source": [
    "p = (1.2, 3.4, 0.9)\n",
    "for s in \"one\", \"two\", \"three\": # организация цикла по значению картеджа\n",
    "    print(s)"
   ]
  },
  {
   "cell_type": "code",
   "execution_count": 89,
   "metadata": {},
   "outputs": [
    {
     "name": "stdout",
     "output_type": "stream",
     "text": [
      "(1,)\n"
     ]
    }
   ],
   "source": [
    "one_item = (1,)\n",
    "print(one_item)"
   ]
  },
  {
   "cell_type": "code",
   "execution_count": 88,
   "metadata": {},
   "outputs": [
    {
     "name": "stdout",
     "output_type": "stream",
     "text": [
      "()\n"
     ]
    }
   ],
   "source": [
    "empty=()\n",
    "print(empty)"
   ]
  },
  {
   "cell_type": "code",
   "execution_count": 87,
   "metadata": {},
   "outputs": [
    {
     "name": "stdout",
     "output_type": "stream",
     "text": [
      "(1, 3, 9)\n"
     ]
    }
   ],
   "source": [
    "p1 = 1,3,9\n",
    "print(p1)"
   ]
  },
  {
   "cell_type": "code",
   "execution_count": 86,
   "metadata": {},
   "outputs": [
    {
     "name": "stdout",
     "output_type": "stream",
     "text": [
      "(3, 8, 5)\n"
     ]
    }
   ],
   "source": [
    "p2 = 3,8,5,\n",
    "print(p2)"
   ]
  },
  {
   "cell_type": "markdown",
   "metadata": {},
   "source": [
    "## Тип list - список\n",
    "\n",
    "> Списки в Python - упорядоченные изменяемые коллекции объектов произвольных типов (почти как массив, но типы могут отличаться).\n",
    "\n",
    "> Чтобы использовать списки, их нужно создать. Создать список можно несколькими способами. Например, можно обработать любой итерируемый объект (например, строку) встроенной функцией list: ...\n",
    "\n",
    "Списки можно задавать с помощью литералов записанных в квадратных скобках или посредством списка включения"
   ]
  },
  {
   "cell_type": "code",
   "execution_count": 85,
   "metadata": {},
   "outputs": [
    {
     "name": "stdout",
     "output_type": "stream",
     "text": [
      "[1, 2, 3]\n"
     ]
    }
   ],
   "source": [
    "lst1 = [1,2,3]\n",
    "print(lst1)"
   ]
  },
  {
   "cell_type": "code",
   "execution_count": 84,
   "metadata": {},
   "outputs": [
    {
     "name": "stdout",
     "output_type": "stream",
     "text": [
      "[1, 9, 25, 49, 81]\n"
     ]
    }
   ],
   "source": [
    "lst2 = [x**2 for x in range(10) if x%2 == 1]\n",
    "print(lst2)"
   ]
  },
  {
   "cell_type": "code",
   "execution_count": 83,
   "metadata": {},
   "outputs": [
    {
     "name": "stdout",
     "output_type": "stream",
     "text": [
      "['a', 'b', 'c', 'd', 'e']\n"
     ]
    }
   ],
   "source": [
    "lst3 = list(\"abcde\")\n",
    "print(lst3)"
   ]
  },
  {
   "cell_type": "markdown",
   "metadata": {},
   "source": [
    "Для работы со списком применяются специальные методы, последовательности\n",
    "\n",
    "При работе с последовательностями нужно учитывать, что они бывают не изменчивыми и изменчивыми\n",
    " \n",
    "```python\n",
    "len(S)\n",
    "x in S # проверяется принадлежность элемента последовательности S\n",
    "S + S1\n",
    "S * n # последовательность из n раз повторений S\n",
    "S[i] # возвращается iтый элемент последовательности S\n",
    "S[i:j:d] # сред из последовательности s от i до j с шагом d\n",
    "min(S)\n",
    "max(S) # максимальное значение\n",
    "del S[i:j:d] # удаление элемента\n",
    "```\n",
    "\n",
    "Далее расмотрим методы применяемые к изменчивым последовательностям, например, к списку\n",
    " \n",
    "```python\n",
    ".append()\n",
    ".count() # считает количество элементов \n",
    ".extend() # добавляет концу последовательности последовательность s\n",
    ".index() # возвращает наименьшее i, что s[i] = i, если не найден повзвращается исключение\n",
    ".insert() # добавляет элемент x в iтый промежуток\n",
    ".pop() # Возвращает iтый элемент удаляя из последовательности\n",
    ".reverse() # меняет порядок элементов на обратный\n",
    ".sort([cmp func]) # сортировка\n",
    " ```"
   ]
  }
 ],
 "metadata": {
  "kernelspec": {
   "display_name": "Python 3",
   "language": "python",
   "name": "python3"
  },
  "language_info": {
   "codemirror_mode": {
    "name": "ipython",
    "version": 3
   },
   "file_extension": ".py",
   "mimetype": "text/x-python",
   "name": "python",
   "nbconvert_exporter": "python",
   "pygments_lexer": "ipython3",
   "version": "3.8.5"
  }
 },
 "nbformat": 4,
 "nbformat_minor": 4
}
